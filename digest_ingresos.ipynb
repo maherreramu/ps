{
  "cells": [
    {
      "cell_type": "code",
      "execution_count": null,
      "metadata": {},
      "outputs": [],
      "source": [
        "#!pip install modin[ray]\n",
        "#!pip install -U ipywidgets"
      ]
    },
    {
      "cell_type": "code",
      "execution_count": 19,
      "metadata": {
        "id": "GlGzG5dPbX4l"
      },
      "outputs": [],
      "source": [
        "import requests\n",
        "from xml.etree import ElementTree as ET\n",
        "import modin.pandas as pd\n",
        "import os\n",
        "import concurrent.futures"
      ]
    },
    {
      "cell_type": "code",
      "execution_count": 20,
      "metadata": {},
      "outputs": [],
      "source": [
        "os.makedirs(\"datos\", exist_ok=True)"
      ]
    },
    {
      "cell_type": "code",
      "execution_count": 21,
      "metadata": {
        "id": "v9HUNe8LfDNs"
      },
      "outputs": [],
      "source": [
        "endpoint = 'https://storage.googleapis.com/validaciones_tmsa/'\n",
        "def descargar_archivo(carpeta_destino, destino, url = endpoint):\n",
        "    file = os.path.join(carpeta_destino, destino.split('/')[-1])\n",
        "    response = requests.get(url+destino)\n",
        "    if response.status_code == 200:\n",
        "        with open(file, 'wb') as f:\n",
        "            f.write(response.content)\n",
        "        print(f'Archivo descargado a {file}.')\n",
        "    else:\n",
        "        print(f'Error al descargar el archivo: {response.status_code}')\n",
        "\n",
        "def descargar_archivos_paralelo(carpeta_destino, lista_destinos, url = endpoint):\n",
        "    print(f'Descargando {len(lista_destinos)} archivos en paralelo...')\n",
        "    with concurrent.futures.ThreadPoolExecutor() as executor:\n",
        "        print(f'Usando {executor._max_workers} hilos...')\n",
        "        executor.map(lambda x: descargar_archivo(carpeta_destino, x, url), lista_destinos)"
      ]
    },
    {
      "cell_type": "code",
      "execution_count": 22,
      "metadata": {
        "id": "4jeA1Clhsoy8"
      },
      "outputs": [],
      "source": [
        "def procesar_df(df):\n",
        "    columns = ['Acceso_Estacion', 'Dispositivo', 'Estacion_Parada', 'Fecha_Transaccion']\n",
        "    columns_upper = map(str.upper, columns)\n",
        "\n",
        "    df = df[columns]\n",
        "    df.columns = columns_upper\n",
        "\n",
        "    df = df[df['ESTACION_PARADA'].str.contains('U. NACIONAL', na=False)].drop('ESTACION_PARADA', axis=1).convert_dtypes()\n",
        "    df['DISPOSITIVO'] = df['DISPOSITIVO'].astype('int32')\n",
        "    df['FECHA_TRANSACCION'] = pd.to_datetime(df['FECHA_TRANSACCION'], format='%Y-%m-%d %H:%M:%S')\n",
        "\n",
        "    df.sort_values(by=['FECHA_TRANSACCION'], ascending=[True], inplace=True)\n",
        "\n",
        "    return df"
      ]
    },
    {
      "cell_type": "code",
      "execution_count": 23,
      "metadata": {
        "id": "2EcqAe2nPxtU"
      },
      "outputs": [],
      "source": [
        "def procesar_df_lista(carpeta, file):\n",
        "    f_name = os.path.join(carpeta, file.split('/')[1])\n",
        "\n",
        "    try:\n",
        "        df_tmp = pd.read_csv(f_name)\n",
        "        df_tmp = procesar_df(df_tmp)\n",
        "        print(f'Data frame {f_name} procesado')\n",
        "        try:\n",
        "            os.remove(f_name)\n",
        "            print(f'Archivo {f_name} eliminado')\n",
        "        except Exception as e:\n",
        "            print(f'Error eliminando el archivo {f_name}: {e}')\n",
        "            return None\n",
        "    except Exception as e:\n",
        "        print(f'Error procesando el df {f_name}: {e}')\n",
        "        return None\n",
        "    return df_tmp"
      ]
    },
    {
      "cell_type": "code",
      "execution_count": 24,
      "metadata": {
        "id": "NPuMiy7OYd75"
      },
      "outputs": [],
      "source": [
        "response = requests.get(endpoint)\n",
        "xml_data = response.text\n",
        "\n",
        "root = ET.fromstring(xml_data)"
      ]
    },
    {
      "cell_type": "code",
      "execution_count": 25,
      "metadata": {
        "id": "H94J9z_xdgFa"
      },
      "outputs": [],
      "source": [
        "files = []\n",
        "\n",
        "namespace = {'ns': 'http://doc.s3.amazonaws.com/2006-03-01'}\n",
        "total_size = 0\n",
        "for element, size in zip(root.iterfind('.//ns:Key', namespace), root.iterfind('.//ns:Size', namespace)):\n",
        "    if 'validacionTroncal202401' in element.text or 'validacionTroncal202402' in element.text or 'validacionTroncal202403' in element.text:\n",
        "        files.append(element.text)\n",
        "        total_size += int(size.text)"
      ]
    },
    {
      "cell_type": "code",
      "execution_count": 26,
      "metadata": {},
      "outputs": [
        {
          "name": "stdout",
          "output_type": "stream",
          "text": [
            "Tamaño total: 29.39 GB\n"
          ]
        }
      ],
      "source": [
        "total_size_gb = total_size / (1024**3)\n",
        "print(f'Tamaño total: {total_size_gb:.2f} GB')"
      ]
    },
    {
      "cell_type": "code",
      "execution_count": 27,
      "metadata": {},
      "outputs": [
        {
          "data": {
            "text/plain": [
              "57"
            ]
          },
          "execution_count": 27,
          "metadata": {},
          "output_type": "execute_result"
        }
      ],
      "source": [
        "len(files)"
      ]
    },
    {
      "cell_type": "code",
      "execution_count": 28,
      "metadata": {},
      "outputs": [
        {
          "name": "stdout",
          "output_type": "stream",
          "text": [
            "Espacio libre en el disco duro: 14.61 GB\n"
          ]
        }
      ],
      "source": [
        "import shutil\n",
        "\n",
        "total, used, free = shutil.disk_usage(\"/\")\n",
        "free_gb = free / (1024**3)\n",
        "\n",
        "print(f\"Espacio libre en el disco duro: {free_gb:.2f} GB\")\n"
      ]
    },
    {
      "cell_type": "code",
      "execution_count": 29,
      "metadata": {
        "colab": {
          "base_uri": "https://localhost:8080/"
        },
        "id": "5i2BLBQ700W4",
        "outputId": "c6c9e642-f231-4c1a-be38-0a1e9f591b7f"
      },
      "outputs": [
        {
          "name": "stdout",
          "output_type": "stream",
          "text": [
            "Descargando 9 archivos en paralelo...\n",
            "Usando 8 hilos...\n",
            "Archivo descargado a datos/validacionTroncal20240204.csv.\n",
            "Archivo descargado a datos/validacionTroncal20240211.csv.\n",
            "Archivo descargado a datos/validacionTroncal20240210.csv.\n",
            "Archivo descargado a datos/validacionTroncal20240130.csv.\n",
            "Archivo descargado a datos/validacionTroncal20240131.csv.\n",
            "Archivo descargado a datos/validacionTroncal20240205.csv.\n",
            "Archivo descargado a datos/validacionTroncal20240202.csv.\n",
            "Archivo descargado a datos/validacionTroncal20240201.csv.\n",
            "Archivo descargado a datos/validacionTroncal20240207.csv.\n",
            "Data frame datos/validacionTroncal20240130.csv procesado\n",
            "Archivo datos/validacionTroncal20240130.csv eliminado\n",
            "Data frame datos/validacionTroncal20240131.csv procesado\n",
            "Archivo datos/validacionTroncal20240131.csv eliminado\n",
            "Data frame datos/validacionTroncal20240201.csv procesado\n",
            "Archivo datos/validacionTroncal20240201.csv eliminado\n",
            "Data frame datos/validacionTroncal20240202.csv procesado\n",
            "Archivo datos/validacionTroncal20240202.csv eliminado\n",
            "Data frame datos/validacionTroncal20240204.csv procesado\n",
            "Archivo datos/validacionTroncal20240204.csv eliminado\n",
            "Data frame datos/validacionTroncal20240205.csv procesado\n",
            "Archivo datos/validacionTroncal20240205.csv eliminado\n",
            "Data frame datos/validacionTroncal20240207.csv procesado\n",
            "Archivo datos/validacionTroncal20240207.csv eliminado\n",
            "Data frame datos/validacionTroncal20240210.csv procesado\n",
            "Archivo datos/validacionTroncal20240210.csv eliminado\n",
            "Data frame datos/validacionTroncal20240211.csv procesado\n",
            "Archivo datos/validacionTroncal20240211.csv eliminado\n",
            "Descargando 10 archivos en paralelo...\n",
            "Usando 8 hilos...\n",
            "Archivo descargado a datos/validacionTroncal20240218.csv.\n",
            "Archivo descargado a datos/validacionTroncal20240217.csv.\n",
            "Archivo descargado a datos/validacionTroncal20240214.csv.\n",
            "Archivo descargado a datos/validacionTroncal20240215.csv.\n",
            "Archivo descargado a datos/validacionTroncal20240212.csv.\n",
            "Archivo descargado a datos/validacionTroncal20240216.csv.\n",
            "Archivo descargado a datos/validacionTroncal20240219.csv.\n",
            "Archivo descargado a datos/validacionTroncal20240213.csv.\n",
            "Archivo descargado a datos/validacionTroncal20240220.csv.\n",
            "Archivo descargado a datos/validacionTroncal20240221.csv.\n",
            "Data frame datos/validacionTroncal20240212.csv procesado\n",
            "Archivo datos/validacionTroncal20240212.csv eliminado\n",
            "Data frame datos/validacionTroncal20240213.csv procesado\n",
            "Archivo datos/validacionTroncal20240213.csv eliminado\n",
            "Data frame datos/validacionTroncal20240214.csv procesado\n",
            "Archivo datos/validacionTroncal20240214.csv eliminado\n",
            "Data frame datos/validacionTroncal20240215.csv procesado\n",
            "Archivo datos/validacionTroncal20240215.csv eliminado\n",
            "Data frame datos/validacionTroncal20240216.csv procesado\n",
            "Archivo datos/validacionTroncal20240216.csv eliminado\n",
            "Data frame datos/validacionTroncal20240217.csv procesado\n",
            "Archivo datos/validacionTroncal20240217.csv eliminado\n",
            "Data frame datos/validacionTroncal20240218.csv procesado\n",
            "Archivo datos/validacionTroncal20240218.csv eliminado\n",
            "Data frame datos/validacionTroncal20240219.csv procesado\n",
            "Archivo datos/validacionTroncal20240219.csv eliminado\n",
            "Data frame datos/validacionTroncal20240220.csv procesado\n",
            "Archivo datos/validacionTroncal20240220.csv eliminado\n",
            "Data frame datos/validacionTroncal20240221.csv procesado\n",
            "Archivo datos/validacionTroncal20240221.csv eliminado\n",
            "Descargando 9 archivos en paralelo...\n",
            "Usando 8 hilos...\n",
            "Archivo descargado a datos/validacionTroncal20240225.csv.\n",
            "Archivo descargado a datos/validacionTroncal20240224.csv.\n",
            "Archivo descargado a datos/validacionTroncal20240302.csv.\n",
            "Archivo descargado a datos/validacionTroncal20240301.csv.\n",
            "Archivo descargado a datos/validacionTroncal20240229.csv.\n",
            "Archivo descargado a datos/validacionTroncal20240222.csv.\n",
            "Archivo descargado a datos/validacionTroncal20240223.csv.\n",
            "Archivo descargado a datos/validacionTroncal20240227.csv.\n",
            "Archivo descargado a datos/validacionTroncal20240228.csv.\n",
            "Data frame datos/validacionTroncal20240222.csv procesado\n",
            "Archivo datos/validacionTroncal20240222.csv eliminado\n",
            "Data frame datos/validacionTroncal20240223.csv procesado\n",
            "Archivo datos/validacionTroncal20240223.csv eliminado\n",
            "Data frame datos/validacionTroncal20240224.csv procesado\n",
            "Archivo datos/validacionTroncal20240224.csv eliminado\n",
            "Data frame datos/validacionTroncal20240225.csv procesado\n",
            "Archivo datos/validacionTroncal20240225.csv eliminado\n",
            "Data frame datos/validacionTroncal20240227.csv procesado\n",
            "Archivo datos/validacionTroncal20240227.csv eliminado\n",
            "Data frame datos/validacionTroncal20240228.csv procesado\n",
            "Archivo datos/validacionTroncal20240228.csv eliminado\n",
            "Data frame datos/validacionTroncal20240229.csv procesado\n",
            "Archivo datos/validacionTroncal20240229.csv eliminado\n",
            "Data frame datos/validacionTroncal20240301.csv procesado\n",
            "Archivo datos/validacionTroncal20240301.csv eliminado\n",
            "Data frame datos/validacionTroncal20240302.csv procesado\n",
            "Archivo datos/validacionTroncal20240302.csv eliminado\n",
            "Descargando 10 archivos en paralelo...\n",
            "Usando 8 hilos...\n",
            "Archivo descargado a datos/validacionTroncal20240310.csv.\n",
            "Archivo descargado a datos/validacionTroncal20240303.csv.\n",
            "Archivo descargado a datos/validacionTroncal20240309.csv.\n",
            "Archivo descargado a datos/validacionTroncal20240307.csv.\n",
            "Archivo descargado a datos/validacionTroncal20240304.csv.\n",
            "Archivo descargado a datos/validacionTroncal20240308.csv.\n",
            "Archivo descargado a datos/validacionTroncal20240306.csv.\n",
            "Archivo descargado a datos/validacionTroncal20240305.csv.\n",
            "Archivo descargado a datos/validacionTroncal20240311.csv.\n",
            "Archivo descargado a datos/validacionTroncal20240312.csv.\n",
            "Data frame datos/validacionTroncal20240303.csv procesado\n",
            "Archivo datos/validacionTroncal20240303.csv eliminado\n",
            "Data frame datos/validacionTroncal20240304.csv procesado\n",
            "Archivo datos/validacionTroncal20240304.csv eliminado\n",
            "Data frame datos/validacionTroncal20240305.csv procesado\n",
            "Archivo datos/validacionTroncal20240305.csv eliminado\n",
            "Data frame datos/validacionTroncal20240306.csv procesado\n",
            "Archivo datos/validacionTroncal20240306.csv eliminado\n",
            "Data frame datos/validacionTroncal20240307.csv procesado\n",
            "Archivo datos/validacionTroncal20240307.csv eliminado\n",
            "Data frame datos/validacionTroncal20240308.csv procesado\n",
            "Archivo datos/validacionTroncal20240308.csv eliminado\n",
            "Data frame datos/validacionTroncal20240309.csv procesado\n",
            "Archivo datos/validacionTroncal20240309.csv eliminado\n",
            "Data frame datos/validacionTroncal20240310.csv procesado\n",
            "Archivo datos/validacionTroncal20240310.csv eliminado\n",
            "Data frame datos/validacionTroncal20240311.csv procesado\n",
            "Archivo datos/validacionTroncal20240311.csv eliminado\n",
            "Data frame datos/validacionTroncal20240312.csv procesado\n",
            "Archivo datos/validacionTroncal20240312.csv eliminado\n",
            "Descargando 9 archivos en paralelo...\n",
            "Usando 8 hilos...\n",
            "Archivo descargado a datos/validacionTroncal20240317.csv.\n",
            "Archivo descargado a datos/validacionTroncal20240316.csv.\n",
            "Archivo descargado a datos/validacionTroncal20240318.csv.\n",
            "Archivo descargado a datos/validacionTroncal20240315.csv.\n",
            "Archivo descargado a datos/validacionTroncal20240314.csv.\n",
            "Archivo descargado a datos/validacionTroncal20240319.csv.\n",
            "Archivo descargado a datos/validacionTroncal20240313.csv.\n",
            "Archivo descargado a datos/validacionTroncal20240320.csv.\n",
            "Archivo descargado a datos/validacionTroncal20240321.csv.\n",
            "Data frame datos/validacionTroncal20240313.csv procesado\n",
            "Archivo datos/validacionTroncal20240313.csv eliminado\n",
            "Data frame datos/validacionTroncal20240314.csv procesado\n",
            "Archivo datos/validacionTroncal20240314.csv eliminado\n",
            "Data frame datos/validacionTroncal20240315.csv procesado\n",
            "Archivo datos/validacionTroncal20240315.csv eliminado\n",
            "Data frame datos/validacionTroncal20240316.csv procesado\n",
            "Archivo datos/validacionTroncal20240316.csv eliminado\n",
            "Data frame datos/validacionTroncal20240317.csv procesado\n",
            "Archivo datos/validacionTroncal20240317.csv eliminado\n",
            "Data frame datos/validacionTroncal20240318.csv procesado\n",
            "Archivo datos/validacionTroncal20240318.csv eliminado\n",
            "Data frame datos/validacionTroncal20240319.csv procesado\n",
            "Archivo datos/validacionTroncal20240319.csv eliminado\n",
            "Data frame datos/validacionTroncal20240320.csv procesado\n",
            "Archivo datos/validacionTroncal20240320.csv eliminado\n",
            "Data frame datos/validacionTroncal20240321.csv procesado\n",
            "Archivo datos/validacionTroncal20240321.csv eliminado\n",
            "Descargando 10 archivos en paralelo...\n",
            "Usando 8 hilos...\n",
            "Archivo descargado a datos/validacionTroncal20240329.csv.\n",
            "Archivo descargado a datos/validacionTroncal20240328.csv.\n",
            "Archivo descargado a datos/validacionTroncal20240325.csv.\n",
            "Archivo descargado a datos/validacionTroncal20240324.csv.\n",
            "Archivo descargado a datos/validacionTroncal20240331.csv.\n",
            "Archivo descargado a datos/validacionTroncal20240330.csv.\n",
            "Archivo descargado a datos/validacionTroncal20240323.csv.\n",
            "Archivo descargado a datos/validacionTroncal20240327.csv.\n",
            "Archivo descargado a datos/validacionTroncal20240326.csv.\n",
            "Archivo descargado a datos/validacionTroncal20240322.csv.\n",
            "Data frame datos/validacionTroncal20240322.csv procesado\n",
            "Archivo datos/validacionTroncal20240322.csv eliminado\n",
            "Data frame datos/validacionTroncal20240323.csv procesado\n",
            "Archivo datos/validacionTroncal20240323.csv eliminado\n",
            "Data frame datos/validacionTroncal20240324.csv procesado\n",
            "Archivo datos/validacionTroncal20240324.csv eliminado\n",
            "Data frame datos/validacionTroncal20240325.csv procesado\n",
            "Archivo datos/validacionTroncal20240325.csv eliminado\n",
            "Data frame datos/validacionTroncal20240326.csv procesado\n",
            "Archivo datos/validacionTroncal20240326.csv eliminado\n",
            "Data frame datos/validacionTroncal20240327.csv procesado\n",
            "Archivo datos/validacionTroncal20240327.csv eliminado\n",
            "Data frame datos/validacionTroncal20240328.csv procesado\n",
            "Archivo datos/validacionTroncal20240328.csv eliminado\n",
            "Data frame datos/validacionTroncal20240329.csv procesado\n",
            "Archivo datos/validacionTroncal20240329.csv eliminado\n",
            "Data frame datos/validacionTroncal20240330.csv procesado\n",
            "Archivo datos/validacionTroncal20240330.csv eliminado\n",
            "Data frame datos/validacionTroncal20240331.csv procesado\n",
            "Archivo datos/validacionTroncal20240331.csv eliminado\n",
            "**********TODOS LOS ARCHIVOS HAN SIDO PROCESADOS**********\n"
          ]
        }
      ],
      "source": [
        "ingresos_primer_trimestre_2024 = pd.DataFrame()\n",
        "\n",
        "length = len(files)\n",
        "batches = 6\n",
        "for i in range(batches):\n",
        "    print(f'Procesando batch {i+1}/{batches}...')\n",
        "    files_batch = files[i*length//batches:(i+1)*length//batches]\n",
        "    descargar_archivos_paralelo(\"datos\", files_batch)\n",
        "    dataframes = [procesar_df_lista(\"datos\", f) for f in files_batch]\n",
        "    ingresos_primer_trimestre_2024 = pd.concat([ingresos_primer_trimestre_2024] + dataframes, join='outer', ignore_index=True)\n",
        "\n",
        "print('**********TODOS LOS ARCHIVOS HAN SIDO PROCESADOS**********')"
      ]
    },
    {
      "cell_type": "code",
      "execution_count": 30,
      "metadata": {
        "colab": {
          "base_uri": "https://localhost:8080/"
        },
        "id": "LgnKriz2AYZI",
        "outputId": "74969c25-e992-4376-b924-dd6c42d45b08"
      },
      "outputs": [],
      "source": [
        "ingresos_primer_trimestre_2024.to_csv('ingresos_primer_trimestre_2024.csv')"
      ]
    },
    {
      "cell_type": "code",
      "execution_count": 87,
      "metadata": {},
      "outputs": [],
      "source": [
        "ingresos_primer_trimestre_2024 = pd.read_csv('ingresos_primer_trimestre_2024.csv')"
      ]
    },
    {
      "cell_type": "code",
      "execution_count": 88,
      "metadata": {},
      "outputs": [
        {
          "data": {
            "text/html": [
              "<div>\n",
              "<style scoped>\n",
              "    .dataframe tbody tr th:only-of-type {\n",
              "        vertical-align: middle;\n",
              "    }\n",
              "\n",
              "    .dataframe tbody tr th {\n",
              "        vertical-align: top;\n",
              "    }\n",
              "\n",
              "    .dataframe thead th {\n",
              "        text-align: right;\n",
              "    }\n",
              "</style>\n",
              "<table border=\"1\" class=\"dataframe\">\n",
              "  <thead>\n",
              "    <tr style=\"text-align: right;\">\n",
              "      <th></th>\n",
              "      <th>Unnamed: 0</th>\n",
              "      <th>ACCESO_ESTACION</th>\n",
              "      <th>DISPOSITIVO</th>\n",
              "      <th>FECHA_TRANSACCION</th>\n",
              "    </tr>\n",
              "  </thead>\n",
              "  <tbody>\n",
              "    <tr>\n",
              "      <th>0</th>\n",
              "      <td>0</td>\n",
              "      <td>(03) BATERIA UNO VAGON SUR U. NACIONAL</td>\n",
              "      <td>10000547</td>\n",
              "      <td>2024-01-30 04:43:45</td>\n",
              "    </tr>\n",
              "    <tr>\n",
              "      <th>1</th>\n",
              "      <td>1</td>\n",
              "      <td>(03) BATERIA UNO VAGON SUR U. NACIONAL</td>\n",
              "      <td>10000547</td>\n",
              "      <td>2024-01-30 04:44:13</td>\n",
              "    </tr>\n",
              "    <tr>\n",
              "      <th>2</th>\n",
              "      <td>2</td>\n",
              "      <td>(03) BATERIA UNO VAGON SUR U. NACIONAL</td>\n",
              "      <td>10000547</td>\n",
              "      <td>2024-01-30 04:46:42</td>\n",
              "    </tr>\n",
              "    <tr>\n",
              "      <th>3</th>\n",
              "      <td>3</td>\n",
              "      <td>(03) BATERIA UNO VAGON SUR U. NACIONAL</td>\n",
              "      <td>10000547</td>\n",
              "      <td>2024-01-30 04:50:28</td>\n",
              "    </tr>\n",
              "    <tr>\n",
              "      <th>4</th>\n",
              "      <td>4</td>\n",
              "      <td>(03) BATERIA UNO VAGON SUR U. NACIONAL</td>\n",
              "      <td>10000546</td>\n",
              "      <td>2024-01-30 04:51:55</td>\n",
              "    </tr>\n",
              "  </tbody>\n",
              "</table>\n",
              "</div>"
            ],
            "text/plain": [
              "   Unnamed: 0                         ACCESO_ESTACION  DISPOSITIVO  \\\n",
              "0           0  (03) BATERIA UNO VAGON SUR U. NACIONAL     10000547   \n",
              "1           1  (03) BATERIA UNO VAGON SUR U. NACIONAL     10000547   \n",
              "2           2  (03) BATERIA UNO VAGON SUR U. NACIONAL     10000547   \n",
              "3           3  (03) BATERIA UNO VAGON SUR U. NACIONAL     10000547   \n",
              "4           4  (03) BATERIA UNO VAGON SUR U. NACIONAL     10000546   \n",
              "\n",
              "     FECHA_TRANSACCION  \n",
              "0  2024-01-30 04:43:45  \n",
              "1  2024-01-30 04:44:13  \n",
              "2  2024-01-30 04:46:42  \n",
              "3  2024-01-30 04:50:28  \n",
              "4  2024-01-30 04:51:55  "
            ]
          },
          "execution_count": 88,
          "metadata": {},
          "output_type": "execute_result"
        }
      ],
      "source": [
        "ingresos_primer_trimestre_2024.head()"
      ]
    },
    {
      "cell_type": "code",
      "execution_count": 89,
      "metadata": {},
      "outputs": [],
      "source": [
        "ingresos_primer_trimestre_2024.drop('Unnamed: 0', axis=1, inplace=True)"
      ]
    },
    {
      "cell_type": "code",
      "execution_count": 90,
      "metadata": {},
      "outputs": [
        {
          "name": "stdout",
          "output_type": "stream",
          "text": [
            "<class 'modin.pandas.dataframe.DataFrame'>\n",
            "RangeIndex: 581523 entries, 0 to 581522\n",
            "Data columns (total 3 columns):\n",
            " #   Column             Non-Null Count   Dtype \n",
            "---  ------             --------------   ----- \n",
            " 0   ACCESO_ESTACION    581523 non-null  object\n",
            " 1   DISPOSITIVO        581523 non-null  int64 \n",
            " 2   FECHA_TRANSACCION  581523 non-null  object\n",
            "dtypes: int64(1), object(2)\n",
            "memory usage: 13.3+ MB\n"
          ]
        }
      ],
      "source": [
        "ingresos_primer_trimestre_2024.info()"
      ]
    },
    {
      "cell_type": "code",
      "execution_count": 91,
      "metadata": {},
      "outputs": [],
      "source": [
        "ingresos_primer_trimestre_2024['FECHA_TRANSACCION'] = pd.to_datetime(ingresos_primer_trimestre_2024['FECHA_TRANSACCION'])\n",
        "ingresos_primer_trimestre_2024['ACCESO_ESTACION'] = ingresos_primer_trimestre_2024['ACCESO_ESTACION'].astype('string')"
      ]
    },
    {
      "cell_type": "code",
      "execution_count": 92,
      "metadata": {
        "id": "jHy-oHvkAopm"
      },
      "outputs": [],
      "source": [
        "ingresos_primer_trimestre_2024['HORA'] = ingresos_primer_trimestre_2024['FECHA_TRANSACCION'].dt.strftime('%H:%M:%S')\n",
        "ingresos_primer_trimestre_2024['DIA'] = ingresos_primer_trimestre_2024['FECHA_TRANSACCION'].dt.weekday\n",
        "ingresos_primer_trimestre_2024['FECHA_TRANSACCION'] = ingresos_primer_trimestre_2024['FECHA_TRANSACCION'].dt.date"
      ]
    },
    {
      "cell_type": "code",
      "execution_count": 93,
      "metadata": {},
      "outputs": [
        {
          "data": {
            "text/html": [
              "<div>\n",
              "<style scoped>\n",
              "    .dataframe tbody tr th:only-of-type {\n",
              "        vertical-align: middle;\n",
              "    }\n",
              "\n",
              "    .dataframe tbody tr th {\n",
              "        vertical-align: top;\n",
              "    }\n",
              "\n",
              "    .dataframe thead th {\n",
              "        text-align: right;\n",
              "    }\n",
              "</style>\n",
              "<table border=\"1\" class=\"dataframe\">\n",
              "  <thead>\n",
              "    <tr style=\"text-align: right;\">\n",
              "      <th></th>\n",
              "      <th>ACCESO_ESTACION</th>\n",
              "      <th>DISPOSITIVO</th>\n",
              "      <th>FECHA_TRANSACCION</th>\n",
              "      <th>HORA</th>\n",
              "      <th>DIA</th>\n",
              "    </tr>\n",
              "  </thead>\n",
              "  <tbody>\n",
              "    <tr>\n",
              "      <th>0</th>\n",
              "      <td>(03) BATERIA UNO VAGON SUR U. NACIONAL</td>\n",
              "      <td>10000547</td>\n",
              "      <td>2024-01-30</td>\n",
              "      <td>04:43:45</td>\n",
              "      <td>1</td>\n",
              "    </tr>\n",
              "    <tr>\n",
              "      <th>1</th>\n",
              "      <td>(03) BATERIA UNO VAGON SUR U. NACIONAL</td>\n",
              "      <td>10000547</td>\n",
              "      <td>2024-01-30</td>\n",
              "      <td>04:44:13</td>\n",
              "      <td>1</td>\n",
              "    </tr>\n",
              "    <tr>\n",
              "      <th>2</th>\n",
              "      <td>(03) BATERIA UNO VAGON SUR U. NACIONAL</td>\n",
              "      <td>10000547</td>\n",
              "      <td>2024-01-30</td>\n",
              "      <td>04:46:42</td>\n",
              "      <td>1</td>\n",
              "    </tr>\n",
              "    <tr>\n",
              "      <th>3</th>\n",
              "      <td>(03) BATERIA UNO VAGON SUR U. NACIONAL</td>\n",
              "      <td>10000547</td>\n",
              "      <td>2024-01-30</td>\n",
              "      <td>04:50:28</td>\n",
              "      <td>1</td>\n",
              "    </tr>\n",
              "    <tr>\n",
              "      <th>4</th>\n",
              "      <td>(03) BATERIA UNO VAGON SUR U. NACIONAL</td>\n",
              "      <td>10000546</td>\n",
              "      <td>2024-01-30</td>\n",
              "      <td>04:51:55</td>\n",
              "      <td>1</td>\n",
              "    </tr>\n",
              "  </tbody>\n",
              "</table>\n",
              "</div>"
            ],
            "text/plain": [
              "                          ACCESO_ESTACION  DISPOSITIVO FECHA_TRANSACCION  \\\n",
              "0  (03) BATERIA UNO VAGON SUR U. NACIONAL     10000547        2024-01-30   \n",
              "1  (03) BATERIA UNO VAGON SUR U. NACIONAL     10000547        2024-01-30   \n",
              "2  (03) BATERIA UNO VAGON SUR U. NACIONAL     10000547        2024-01-30   \n",
              "3  (03) BATERIA UNO VAGON SUR U. NACIONAL     10000547        2024-01-30   \n",
              "4  (03) BATERIA UNO VAGON SUR U. NACIONAL     10000546        2024-01-30   \n",
              "\n",
              "       HORA  DIA  \n",
              "0  04:43:45    1  \n",
              "1  04:44:13    1  \n",
              "2  04:46:42    1  \n",
              "3  04:50:28    1  \n",
              "4  04:51:55    1  "
            ]
          },
          "execution_count": 93,
          "metadata": {},
          "output_type": "execute_result"
        }
      ],
      "source": [
        "ingresos_primer_trimestre_2024.head()"
      ]
    },
    {
      "cell_type": "code",
      "execution_count": 95,
      "metadata": {},
      "outputs": [],
      "source": [
        "ingresos_primer_trimestre_2024.to_csv('ingresos_primer_trimestre_2024.csv')"
      ]
    },
    {
      "cell_type": "code",
      "execution_count": 1,
      "metadata": {},
      "outputs": [],
      "source": [
        "import pandas as pd"
      ]
    },
    {
      "cell_type": "code",
      "execution_count": 2,
      "metadata": {},
      "outputs": [],
      "source": [
        "ingresos_primer_trimestre_2024 = pd.read_csv('ingresos_primer_trimestre_2024.csv')"
      ]
    },
    {
      "cell_type": "code",
      "execution_count": 3,
      "metadata": {},
      "outputs": [],
      "source": [
        "ingresos_primer_trimestre_2024.drop('Unnamed: 0', axis=1, inplace=True)"
      ]
    },
    {
      "cell_type": "code",
      "execution_count": 5,
      "metadata": {},
      "outputs": [
        {
          "data": {
            "text/html": [
              "<div>\n",
              "<style scoped>\n",
              "    .dataframe tbody tr th:only-of-type {\n",
              "        vertical-align: middle;\n",
              "    }\n",
              "\n",
              "    .dataframe tbody tr th {\n",
              "        vertical-align: top;\n",
              "    }\n",
              "\n",
              "    .dataframe thead th {\n",
              "        text-align: right;\n",
              "    }\n",
              "</style>\n",
              "<table border=\"1\" class=\"dataframe\">\n",
              "  <thead>\n",
              "    <tr style=\"text-align: right;\">\n",
              "      <th></th>\n",
              "      <th>ACCESO_ESTACION</th>\n",
              "      <th>DISPOSITIVO</th>\n",
              "      <th>FECHA_TRANSACCION</th>\n",
              "      <th>HORA</th>\n",
              "      <th>DIA</th>\n",
              "    </tr>\n",
              "  </thead>\n",
              "  <tbody>\n",
              "    <tr>\n",
              "      <th>0</th>\n",
              "      <td>(03) BATERIA UNO VAGON SUR U. NACIONAL</td>\n",
              "      <td>10000547</td>\n",
              "      <td>2024-01-30</td>\n",
              "      <td>04:43:45</td>\n",
              "      <td>1</td>\n",
              "    </tr>\n",
              "    <tr>\n",
              "      <th>1</th>\n",
              "      <td>(03) BATERIA UNO VAGON SUR U. NACIONAL</td>\n",
              "      <td>10000547</td>\n",
              "      <td>2024-01-30</td>\n",
              "      <td>04:44:13</td>\n",
              "      <td>1</td>\n",
              "    </tr>\n",
              "    <tr>\n",
              "      <th>2</th>\n",
              "      <td>(03) BATERIA UNO VAGON SUR U. NACIONAL</td>\n",
              "      <td>10000547</td>\n",
              "      <td>2024-01-30</td>\n",
              "      <td>04:46:42</td>\n",
              "      <td>1</td>\n",
              "    </tr>\n",
              "    <tr>\n",
              "      <th>3</th>\n",
              "      <td>(03) BATERIA UNO VAGON SUR U. NACIONAL</td>\n",
              "      <td>10000547</td>\n",
              "      <td>2024-01-30</td>\n",
              "      <td>04:50:28</td>\n",
              "      <td>1</td>\n",
              "    </tr>\n",
              "    <tr>\n",
              "      <th>4</th>\n",
              "      <td>(03) BATERIA UNO VAGON SUR U. NACIONAL</td>\n",
              "      <td>10000546</td>\n",
              "      <td>2024-01-30</td>\n",
              "      <td>04:51:55</td>\n",
              "      <td>1</td>\n",
              "    </tr>\n",
              "  </tbody>\n",
              "</table>\n",
              "</div>"
            ],
            "text/plain": [
              "                          ACCESO_ESTACION  DISPOSITIVO FECHA_TRANSACCION  \\\n",
              "0  (03) BATERIA UNO VAGON SUR U. NACIONAL     10000547        2024-01-30   \n",
              "1  (03) BATERIA UNO VAGON SUR U. NACIONAL     10000547        2024-01-30   \n",
              "2  (03) BATERIA UNO VAGON SUR U. NACIONAL     10000547        2024-01-30   \n",
              "3  (03) BATERIA UNO VAGON SUR U. NACIONAL     10000547        2024-01-30   \n",
              "4  (03) BATERIA UNO VAGON SUR U. NACIONAL     10000546        2024-01-30   \n",
              "\n",
              "       HORA  DIA  \n",
              "0  04:43:45    1  \n",
              "1  04:44:13    1  \n",
              "2  04:46:42    1  \n",
              "3  04:50:28    1  \n",
              "4  04:51:55    1  "
            ]
          },
          "execution_count": 5,
          "metadata": {},
          "output_type": "execute_result"
        }
      ],
      "source": [
        "ingresos_primer_trimestre_2024.head()"
      ]
    },
    {
      "cell_type": "code",
      "execution_count": 4,
      "metadata": {},
      "outputs": [
        {
          "name": "stdout",
          "output_type": "stream",
          "text": [
            "<class 'pandas.core.frame.DataFrame'>\n",
            "RangeIndex: 581523 entries, 0 to 581522\n",
            "Data columns (total 5 columns):\n",
            " #   Column             Non-Null Count   Dtype \n",
            "---  ------             --------------   ----- \n",
            " 0   ACCESO_ESTACION    581523 non-null  object\n",
            " 1   DISPOSITIVO        581523 non-null  int64 \n",
            " 2   FECHA_TRANSACCION  581523 non-null  object\n",
            " 3   HORA               581523 non-null  object\n",
            " 4   DIA                581523 non-null  int64 \n",
            "dtypes: int64(2), object(3)\n",
            "memory usage: 22.2+ MB\n"
          ]
        }
      ],
      "source": [
        "ingresos_primer_trimestre_2024.info()"
      ]
    },
    {
      "cell_type": "code",
      "execution_count": 6,
      "metadata": {},
      "outputs": [],
      "source": [
        "ingresos_primer_trimestre_2024['FECHA_TRANSACCION'] = pd.to_datetime(ingresos_primer_trimestre_2024['FECHA_TRANSACCION'])\n",
        "ingresos_primer_trimestre_2024['ACCESO_ESTACION'] = ingresos_primer_trimestre_2024['ACCESO_ESTACION'].astype('string')\n",
        "ingresos_primer_trimestre_2024['HORA'] = ingresos_primer_trimestre_2024['FECHA_TRANSACCION'].dt.strftime('%H:%M:%S')"
      ]
    },
    {
      "cell_type": "code",
      "execution_count": 7,
      "metadata": {},
      "outputs": [
        {
          "name": "stdout",
          "output_type": "stream",
          "text": [
            "<class 'pandas.core.frame.DataFrame'>\n",
            "RangeIndex: 581523 entries, 0 to 581522\n",
            "Data columns (total 5 columns):\n",
            " #   Column             Non-Null Count   Dtype         \n",
            "---  ------             --------------   -----         \n",
            " 0   ACCESO_ESTACION    581523 non-null  string        \n",
            " 1   DISPOSITIVO        581523 non-null  int64         \n",
            " 2   FECHA_TRANSACCION  581523 non-null  datetime64[ns]\n",
            " 3   HORA               581523 non-null  object        \n",
            " 4   DIA                581523 non-null  int64         \n",
            "dtypes: datetime64[ns](1), int64(2), object(1), string(1)\n",
            "memory usage: 22.2+ MB\n"
          ]
        }
      ],
      "source": [
        "ingresos_primer_trimestre_2024.info()"
      ]
    },
    {
      "cell_type": "code",
      "execution_count": 9,
      "metadata": {},
      "outputs": [
        {
          "data": {
            "text/plain": [
              "<DatetimeArray>\n",
              "['2024-01-30 00:00:00', '2024-01-31 00:00:00', '2024-02-01 00:00:00',\n",
              " '2024-02-02 00:00:00', '2024-02-04 00:00:00', '2024-02-05 00:00:00',\n",
              " '2024-02-07 00:00:00', '2024-02-10 00:00:00', '2024-02-11 00:00:00',\n",
              " '2024-02-12 00:00:00', '2024-02-13 00:00:00', '2024-02-14 00:00:00',\n",
              " '2024-02-15 00:00:00', '2024-02-16 00:00:00', '2024-02-17 00:00:00',\n",
              " '2024-02-18 00:00:00', '2024-02-19 00:00:00', '2024-02-20 00:00:00',\n",
              " '2024-02-21 00:00:00', '2024-02-22 00:00:00', '2024-02-23 00:00:00',\n",
              " '2024-02-24 00:00:00', '2024-02-25 00:00:00', '2024-02-27 00:00:00',\n",
              " '2024-02-28 00:00:00', '2024-02-29 00:00:00', '2024-03-01 00:00:00',\n",
              " '2024-03-02 00:00:00', '2024-03-03 00:00:00', '2024-03-04 00:00:00',\n",
              " '2024-03-05 00:00:00', '2024-03-06 00:00:00', '2024-03-07 00:00:00',\n",
              " '2024-03-08 00:00:00', '2024-03-09 00:00:00', '2024-03-10 00:00:00',\n",
              " '2024-03-11 00:00:00', '2024-03-12 00:00:00', '2024-03-13 00:00:00',\n",
              " '2024-03-14 00:00:00', '2024-03-15 00:00:00', '2024-03-16 00:00:00',\n",
              " '2024-03-17 00:00:00', '2024-03-18 00:00:00', '2024-03-19 00:00:00',\n",
              " '2024-03-20 00:00:00', '2024-03-21 00:00:00', '2024-03-22 00:00:00',\n",
              " '2024-03-23 00:00:00', '2024-03-24 00:00:00', '2024-03-25 00:00:00',\n",
              " '2024-03-26 00:00:00', '2024-03-27 00:00:00', '2024-03-28 00:00:00',\n",
              " '2024-03-29 00:00:00', '2024-03-30 00:00:00', '2024-03-31 00:00:00']\n",
              "Length: 57, dtype: datetime64[ns]"
            ]
          },
          "execution_count": 9,
          "metadata": {},
          "output_type": "execute_result"
        }
      ],
      "source": [
        "ingresos_primer_trimestre_2024['FECHA_TRANSACCION'].unique()"
      ]
    },
    {
      "cell_type": "code",
      "execution_count": null,
      "metadata": {},
      "outputs": [],
      "source": []
    }
  ],
  "metadata": {
    "colab": {
      "provenance": []
    },
    "kernelspec": {
      "display_name": "Python 3",
      "name": "python3"
    },
    "language_info": {
      "codemirror_mode": {
        "name": "ipython",
        "version": 3
      },
      "file_extension": ".py",
      "mimetype": "text/x-python",
      "name": "python",
      "nbconvert_exporter": "python",
      "pygments_lexer": "ipython3",
      "version": "3.12.3"
    }
  },
  "nbformat": 4,
  "nbformat_minor": 0
}
