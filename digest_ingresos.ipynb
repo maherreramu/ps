{
  "cells": [
    {
      "cell_type": "code",
      "execution_count": null,
      "metadata": {},
      "outputs": [],
      "source": [
        "#!pip install modin[ray]\n",
        "#!pip install -U ipywidgets"
      ]
    },
    {
      "cell_type": "code",
      "execution_count": 1,
      "metadata": {
        "id": "GlGzG5dPbX4l"
      },
      "outputs": [],
      "source": [
        "import requests\n",
        "from xml.etree import ElementTree as ET\n",
        "#import pandas as pd\n",
        "import modin.pandas as pd\n",
        "import os\n",
        "import concurrent.futures"
      ]
    },
    {
      "cell_type": "code",
      "execution_count": 2,
      "metadata": {},
      "outputs": [],
      "source": [
        "os.makedirs(\"raw_data\", exist_ok=True)"
      ]
    },
    {
      "cell_type": "code",
      "execution_count": 3,
      "metadata": {
        "id": "v9HUNe8LfDNs"
      },
      "outputs": [],
      "source": [
        "endpoint = 'https://storage.googleapis.com/validaciones_tmsa/'\n",
        "def descargar_archivo(carpeta_destino, destino, url = endpoint):\n",
        "    file = os.path.join(carpeta_destino, destino.split('/')[-1])\n",
        "    print(f'Descargando {file}...')\n",
        "    response_headers = requests.head(url+destino)\n",
        "    print(f'Tamaño del archivo: {response_headers.headers[\"Content-Length\"]} bytes \\n estatus: {response_headers.status_code}')\n",
        "    response = requests.get(url+destino)\n",
        "    print(f'Estado de la descarga: {response.status_code}')\n",
        "    if response.status_code == 200:\n",
        "        with open(file, 'wb') as f:\n",
        "            f.write(response.content)\n",
        "        print(f'Archivo descargado a {file}.')\n",
        "    else:\n",
        "        print(f'Error al descargar el archivo: {response.status_code}')\n",
        "\n",
        "def descargar_archivos_paralelo(carpeta_destino, lista_destinos, url = endpoint):\n",
        "    print(f'Descargando {len(lista_destinos)} archivos en paralelo...')\n",
        "    with concurrent.futures.ThreadPoolExecutor() as executor:\n",
        "        print(f'Usando {executor._max_workers} hilos...')\n",
        "        executor.map(lambda x: descargar_archivo(carpeta_destino, x, url), lista_destinos)"
      ]
    },
    {
      "cell_type": "code",
      "execution_count": 103,
      "metadata": {
        "id": "4jeA1Clhsoy8"
      },
      "outputs": [],
      "source": [
        "def procesar_df(df):\n",
        "    columns = ['Fecha_Transaccion', 'Dispositivo', 'Estacion_Parada']\n",
        "    columns_upper = map(str.upper, columns)\n",
        "\n",
        "    df = df[columns]\n",
        "    df.columns = columns_upper\n",
        "\n",
        "    df = df[df['ESTACION_PARADA'].str.contains('U. NACIONAL', na=False)].drop('ESTACION_PARADA', axis=1).convert_dtypes()\n",
        "    df['DISPOSITIVO'] = df['DISPOSITIVO'].astype('int32')\n",
        "    df['FECHA_TRANSACCION'] = pd.to_datetime(df['FECHA_TRANSACCION'], format='%Y-%m-%d %H:%M:%S')\n",
        "    df['HORA'] = df['FECHA_TRANSACCION'].dt.time\n",
        "    df['FECHA_TRANSACCION'] = df['FECHA_TRANSACCION'].dt.date\n",
        "    df.sort_values(by=['FECHA_TRANSACCION', 'HORA'], ascending=[True, True], inplace=True)\n",
        "    df = df[df['HORA'].between(pd.to_datetime('16:00:00').time(), pd.to_datetime('18:30:00').time())]\n",
        "    df['HORA'] = pd.to_datetime(df['HORA'], format='%H:%M:%S')\n",
        "    df['DIFERENCIA'] = df.groupby(['FECHA_TRANSACCION', 'DISPOSITIVO'])['HORA'].diff().dt.total_seconds().fillna(0)\n",
        "    df.sort_values(by=['FECHA_TRANSACCION', 'DISPOSITIVO', 'HORA'], ascending=[True, True, True], inplace=True)\n",
        "    df['HORA'] = df['HORA'].dt.time\n",
        "    df.reset_index(drop=True, inplace=True)\n",
        "\n",
        "    return df"
      ]
    },
    {
      "cell_type": "code",
      "execution_count": 96,
      "metadata": {
        "id": "2EcqAe2nPxtU"
      },
      "outputs": [],
      "source": [
        "def procesar_df_lista(carpeta, file):\n",
        "    f_name = os.path.join(carpeta, file.split('/')[1])\n",
        "\n",
        "    try:\n",
        "        df_tmp = pd.read_csv(f_name)\n",
        "        df_tmp = procesar_df(df_tmp)\n",
        "        print(f'Data frame {f_name} procesado')\n",
        "        try:\n",
        "            os.remove(f_name)\n",
        "            print(f'Archivo {f_name} eliminado')\n",
        "        except Exception as e:\n",
        "            print(f'Error eliminando el archivo {f_name}: {e}')\n",
        "            return None\n",
        "    except Exception as e:\n",
        "        print(f'Error procesando el df {f_name}: {e}')\n",
        "        return None\n",
        "    return df_tmp"
      ]
    },
    {
      "cell_type": "code",
      "execution_count": 97,
      "metadata": {
        "id": "NPuMiy7OYd75"
      },
      "outputs": [],
      "source": [
        "response = requests.get(endpoint)\n",
        "xml_data = response.text\n",
        "\n",
        "root = ET.fromstring(xml_data)"
      ]
    },
    {
      "cell_type": "code",
      "execution_count": 98,
      "metadata": {
        "id": "H94J9z_xdgFa"
      },
      "outputs": [],
      "source": [
        "files = []\n",
        "\n",
        "namespace = {'ns': 'http://doc.s3.amazonaws.com/2006-03-01'}\n",
        "total_size = 0\n",
        "for element, size in zip(root.iterfind('.//ns:Key', namespace), root.iterfind('.//ns:Size', namespace)):\n",
        "    if 'validacionTroncal2024' in element.text:\n",
        "        files.append(element.text)\n",
        "        total_size += int(size.text)"
      ]
    },
    {
      "cell_type": "code",
      "execution_count": 99,
      "metadata": {},
      "outputs": [
        {
          "name": "stdout",
          "output_type": "stream",
          "text": [
            "Tamaño total: 44.95 GB\n"
          ]
        }
      ],
      "source": [
        "total_size_gb = total_size / (1024**3)\n",
        "print(f'Tamaño total: {total_size_gb:.2f} GB')"
      ]
    },
    {
      "cell_type": "code",
      "execution_count": 73,
      "metadata": {},
      "outputs": [
        {
          "data": {
            "text/plain": [
              "86"
            ]
          },
          "execution_count": 73,
          "metadata": {},
          "output_type": "execute_result"
        }
      ],
      "source": [
        "len(files)"
      ]
    },
    {
      "cell_type": "code",
      "execution_count": 28,
      "metadata": {},
      "outputs": [
        {
          "name": "stdout",
          "output_type": "stream",
          "text": [
            "Espacio libre en el disco duro: 14.61 GB\n"
          ]
        }
      ],
      "source": [
        "import shutil\n",
        "\n",
        "total, used, free = shutil.disk_usage(\"/\")\n",
        "free_gb = free / (1024**3)\n",
        "\n",
        "print(f\"Espacio libre en el disco duro: {free_gb:.2f} GB\")\n"
      ]
    },
    {
      "cell_type": "code",
      "execution_count": 29,
      "metadata": {
        "colab": {
          "base_uri": "https://localhost:8080/"
        },
        "id": "5i2BLBQ700W4",
        "outputId": "c6c9e642-f231-4c1a-be38-0a1e9f591b7f"
      },
      "outputs": [
        {
          "name": "stdout",
          "output_type": "stream",
          "text": [
            "Descargando 9 archivos en paralelo...\n",
            "Usando 8 hilos...\n",
            "Archivo descargado a datos/validacionTroncal20240204.csv.\n",
            "Archivo descargado a datos/validacionTroncal20240211.csv.\n",
            "Archivo descargado a datos/validacionTroncal20240210.csv.\n",
            "Archivo descargado a datos/validacionTroncal20240130.csv.\n",
            "Archivo descargado a datos/validacionTroncal20240131.csv.\n",
            "Archivo descargado a datos/validacionTroncal20240205.csv.\n",
            "Archivo descargado a datos/validacionTroncal20240202.csv.\n",
            "Archivo descargado a datos/validacionTroncal20240201.csv.\n",
            "Archivo descargado a datos/validacionTroncal20240207.csv.\n",
            "Data frame datos/validacionTroncal20240130.csv procesado\n",
            "Archivo datos/validacionTroncal20240130.csv eliminado\n",
            "Data frame datos/validacionTroncal20240131.csv procesado\n",
            "Archivo datos/validacionTroncal20240131.csv eliminado\n",
            "Data frame datos/validacionTroncal20240201.csv procesado\n",
            "Archivo datos/validacionTroncal20240201.csv eliminado\n",
            "Data frame datos/validacionTroncal20240202.csv procesado\n",
            "Archivo datos/validacionTroncal20240202.csv eliminado\n",
            "Data frame datos/validacionTroncal20240204.csv procesado\n",
            "Archivo datos/validacionTroncal20240204.csv eliminado\n",
            "Data frame datos/validacionTroncal20240205.csv procesado\n",
            "Archivo datos/validacionTroncal20240205.csv eliminado\n",
            "Data frame datos/validacionTroncal20240207.csv procesado\n",
            "Archivo datos/validacionTroncal20240207.csv eliminado\n",
            "Data frame datos/validacionTroncal20240210.csv procesado\n",
            "Archivo datos/validacionTroncal20240210.csv eliminado\n",
            "Data frame datos/validacionTroncal20240211.csv procesado\n",
            "Archivo datos/validacionTroncal20240211.csv eliminado\n",
            "Descargando 10 archivos en paralelo...\n",
            "Usando 8 hilos...\n",
            "Archivo descargado a datos/validacionTroncal20240218.csv.\n",
            "Archivo descargado a datos/validacionTroncal20240217.csv.\n",
            "Archivo descargado a datos/validacionTroncal20240214.csv.\n",
            "Archivo descargado a datos/validacionTroncal20240215.csv.\n",
            "Archivo descargado a datos/validacionTroncal20240212.csv.\n",
            "Archivo descargado a datos/validacionTroncal20240216.csv.\n",
            "Archivo descargado a datos/validacionTroncal20240219.csv.\n",
            "Archivo descargado a datos/validacionTroncal20240213.csv.\n",
            "Archivo descargado a datos/validacionTroncal20240220.csv.\n",
            "Archivo descargado a datos/validacionTroncal20240221.csv.\n",
            "Data frame datos/validacionTroncal20240212.csv procesado\n",
            "Archivo datos/validacionTroncal20240212.csv eliminado\n",
            "Data frame datos/validacionTroncal20240213.csv procesado\n",
            "Archivo datos/validacionTroncal20240213.csv eliminado\n",
            "Data frame datos/validacionTroncal20240214.csv procesado\n",
            "Archivo datos/validacionTroncal20240214.csv eliminado\n",
            "Data frame datos/validacionTroncal20240215.csv procesado\n",
            "Archivo datos/validacionTroncal20240215.csv eliminado\n",
            "Data frame datos/validacionTroncal20240216.csv procesado\n",
            "Archivo datos/validacionTroncal20240216.csv eliminado\n",
            "Data frame datos/validacionTroncal20240217.csv procesado\n",
            "Archivo datos/validacionTroncal20240217.csv eliminado\n",
            "Data frame datos/validacionTroncal20240218.csv procesado\n",
            "Archivo datos/validacionTroncal20240218.csv eliminado\n",
            "Data frame datos/validacionTroncal20240219.csv procesado\n",
            "Archivo datos/validacionTroncal20240219.csv eliminado\n",
            "Data frame datos/validacionTroncal20240220.csv procesado\n",
            "Archivo datos/validacionTroncal20240220.csv eliminado\n",
            "Data frame datos/validacionTroncal20240221.csv procesado\n",
            "Archivo datos/validacionTroncal20240221.csv eliminado\n",
            "Descargando 9 archivos en paralelo...\n",
            "Usando 8 hilos...\n",
            "Archivo descargado a datos/validacionTroncal20240225.csv.\n",
            "Archivo descargado a datos/validacionTroncal20240224.csv.\n",
            "Archivo descargado a datos/validacionTroncal20240302.csv.\n",
            "Archivo descargado a datos/validacionTroncal20240301.csv.\n",
            "Archivo descargado a datos/validacionTroncal20240229.csv.\n",
            "Archivo descargado a datos/validacionTroncal20240222.csv.\n",
            "Archivo descargado a datos/validacionTroncal20240223.csv.\n",
            "Archivo descargado a datos/validacionTroncal20240227.csv.\n",
            "Archivo descargado a datos/validacionTroncal20240228.csv.\n",
            "Data frame datos/validacionTroncal20240222.csv procesado\n",
            "Archivo datos/validacionTroncal20240222.csv eliminado\n",
            "Data frame datos/validacionTroncal20240223.csv procesado\n",
            "Archivo datos/validacionTroncal20240223.csv eliminado\n",
            "Data frame datos/validacionTroncal20240224.csv procesado\n",
            "Archivo datos/validacionTroncal20240224.csv eliminado\n",
            "Data frame datos/validacionTroncal20240225.csv procesado\n",
            "Archivo datos/validacionTroncal20240225.csv eliminado\n",
            "Data frame datos/validacionTroncal20240227.csv procesado\n",
            "Archivo datos/validacionTroncal20240227.csv eliminado\n",
            "Data frame datos/validacionTroncal20240228.csv procesado\n",
            "Archivo datos/validacionTroncal20240228.csv eliminado\n",
            "Data frame datos/validacionTroncal20240229.csv procesado\n",
            "Archivo datos/validacionTroncal20240229.csv eliminado\n",
            "Data frame datos/validacionTroncal20240301.csv procesado\n",
            "Archivo datos/validacionTroncal20240301.csv eliminado\n",
            "Data frame datos/validacionTroncal20240302.csv procesado\n",
            "Archivo datos/validacionTroncal20240302.csv eliminado\n",
            "Descargando 10 archivos en paralelo...\n",
            "Usando 8 hilos...\n",
            "Archivo descargado a datos/validacionTroncal20240310.csv.\n",
            "Archivo descargado a datos/validacionTroncal20240303.csv.\n",
            "Archivo descargado a datos/validacionTroncal20240309.csv.\n",
            "Archivo descargado a datos/validacionTroncal20240307.csv.\n",
            "Archivo descargado a datos/validacionTroncal20240304.csv.\n",
            "Archivo descargado a datos/validacionTroncal20240308.csv.\n",
            "Archivo descargado a datos/validacionTroncal20240306.csv.\n",
            "Archivo descargado a datos/validacionTroncal20240305.csv.\n",
            "Archivo descargado a datos/validacionTroncal20240311.csv.\n",
            "Archivo descargado a datos/validacionTroncal20240312.csv.\n",
            "Data frame datos/validacionTroncal20240303.csv procesado\n",
            "Archivo datos/validacionTroncal20240303.csv eliminado\n",
            "Data frame datos/validacionTroncal20240304.csv procesado\n",
            "Archivo datos/validacionTroncal20240304.csv eliminado\n",
            "Data frame datos/validacionTroncal20240305.csv procesado\n",
            "Archivo datos/validacionTroncal20240305.csv eliminado\n",
            "Data frame datos/validacionTroncal20240306.csv procesado\n",
            "Archivo datos/validacionTroncal20240306.csv eliminado\n",
            "Data frame datos/validacionTroncal20240307.csv procesado\n",
            "Archivo datos/validacionTroncal20240307.csv eliminado\n",
            "Data frame datos/validacionTroncal20240308.csv procesado\n",
            "Archivo datos/validacionTroncal20240308.csv eliminado\n",
            "Data frame datos/validacionTroncal20240309.csv procesado\n",
            "Archivo datos/validacionTroncal20240309.csv eliminado\n",
            "Data frame datos/validacionTroncal20240310.csv procesado\n",
            "Archivo datos/validacionTroncal20240310.csv eliminado\n",
            "Data frame datos/validacionTroncal20240311.csv procesado\n",
            "Archivo datos/validacionTroncal20240311.csv eliminado\n",
            "Data frame datos/validacionTroncal20240312.csv procesado\n",
            "Archivo datos/validacionTroncal20240312.csv eliminado\n",
            "Descargando 9 archivos en paralelo...\n",
            "Usando 8 hilos...\n",
            "Archivo descargado a datos/validacionTroncal20240317.csv.\n",
            "Archivo descargado a datos/validacionTroncal20240316.csv.\n",
            "Archivo descargado a datos/validacionTroncal20240318.csv.\n",
            "Archivo descargado a datos/validacionTroncal20240315.csv.\n",
            "Archivo descargado a datos/validacionTroncal20240314.csv.\n",
            "Archivo descargado a datos/validacionTroncal20240319.csv.\n",
            "Archivo descargado a datos/validacionTroncal20240313.csv.\n",
            "Archivo descargado a datos/validacionTroncal20240320.csv.\n",
            "Archivo descargado a datos/validacionTroncal20240321.csv.\n",
            "Data frame datos/validacionTroncal20240313.csv procesado\n",
            "Archivo datos/validacionTroncal20240313.csv eliminado\n",
            "Data frame datos/validacionTroncal20240314.csv procesado\n",
            "Archivo datos/validacionTroncal20240314.csv eliminado\n",
            "Data frame datos/validacionTroncal20240315.csv procesado\n",
            "Archivo datos/validacionTroncal20240315.csv eliminado\n",
            "Data frame datos/validacionTroncal20240316.csv procesado\n",
            "Archivo datos/validacionTroncal20240316.csv eliminado\n",
            "Data frame datos/validacionTroncal20240317.csv procesado\n",
            "Archivo datos/validacionTroncal20240317.csv eliminado\n",
            "Data frame datos/validacionTroncal20240318.csv procesado\n",
            "Archivo datos/validacionTroncal20240318.csv eliminado\n",
            "Data frame datos/validacionTroncal20240319.csv procesado\n",
            "Archivo datos/validacionTroncal20240319.csv eliminado\n",
            "Data frame datos/validacionTroncal20240320.csv procesado\n",
            "Archivo datos/validacionTroncal20240320.csv eliminado\n",
            "Data frame datos/validacionTroncal20240321.csv procesado\n",
            "Archivo datos/validacionTroncal20240321.csv eliminado\n",
            "Descargando 10 archivos en paralelo...\n",
            "Usando 8 hilos...\n",
            "Archivo descargado a datos/validacionTroncal20240329.csv.\n",
            "Archivo descargado a datos/validacionTroncal20240328.csv.\n",
            "Archivo descargado a datos/validacionTroncal20240325.csv.\n",
            "Archivo descargado a datos/validacionTroncal20240324.csv.\n",
            "Archivo descargado a datos/validacionTroncal20240331.csv.\n",
            "Archivo descargado a datos/validacionTroncal20240330.csv.\n",
            "Archivo descargado a datos/validacionTroncal20240323.csv.\n",
            "Archivo descargado a datos/validacionTroncal20240327.csv.\n",
            "Archivo descargado a datos/validacionTroncal20240326.csv.\n",
            "Archivo descargado a datos/validacionTroncal20240322.csv.\n",
            "Data frame datos/validacionTroncal20240322.csv procesado\n",
            "Archivo datos/validacionTroncal20240322.csv eliminado\n",
            "Data frame datos/validacionTroncal20240323.csv procesado\n",
            "Archivo datos/validacionTroncal20240323.csv eliminado\n",
            "Data frame datos/validacionTroncal20240324.csv procesado\n",
            "Archivo datos/validacionTroncal20240324.csv eliminado\n",
            "Data frame datos/validacionTroncal20240325.csv procesado\n",
            "Archivo datos/validacionTroncal20240325.csv eliminado\n",
            "Data frame datos/validacionTroncal20240326.csv procesado\n",
            "Archivo datos/validacionTroncal20240326.csv eliminado\n",
            "Data frame datos/validacionTroncal20240327.csv procesado\n",
            "Archivo datos/validacionTroncal20240327.csv eliminado\n",
            "Data frame datos/validacionTroncal20240328.csv procesado\n",
            "Archivo datos/validacionTroncal20240328.csv eliminado\n",
            "Data frame datos/validacionTroncal20240329.csv procesado\n",
            "Archivo datos/validacionTroncal20240329.csv eliminado\n",
            "Data frame datos/validacionTroncal20240330.csv procesado\n",
            "Archivo datos/validacionTroncal20240330.csv eliminado\n",
            "Data frame datos/validacionTroncal20240331.csv procesado\n",
            "Archivo datos/validacionTroncal20240331.csv eliminado\n",
            "**********TODOS LOS ARCHIVOS HAN SIDO PROCESADOS**********\n"
          ]
        }
      ],
      "source": [
        "ingresos_ultimos_20d_2024= pd.DataFrame()\n",
        "\n",
        "length = len(files)\n",
        "batches = 6\n",
        "for i in range(batches):\n",
        "    print(f'Procesando batch {i+1}/{batches}...')\n",
        "    files_batch = files[i*length//batches:(i+1)*length//batches]\n",
        "    descargar_archivos_paralelo(\"raw_data\", files_batch)\n",
        "    dataframes = [procesar_df_lista(\"raw_data\", f) for f in files_batch]\n",
        "    ingresos_ultimos_20d_2024 = pd.concat([ingresos_ultimos_20d_2024] + dataframes, join='outer', ignore_index=True)\n",
        "\n",
        "print('**********TODOS LOS ARCHIVOS HAN SIDO PROCESADOS**********')"
      ]
    },
    {
      "cell_type": "code",
      "execution_count": 30,
      "metadata": {
        "colab": {
          "base_uri": "https://localhost:8080/"
        },
        "id": "LgnKriz2AYZI",
        "outputId": "74969c25-e992-4376-b924-dd6c42d45b08"
      },
      "outputs": [],
      "source": [
        "ingresos_ultimos_20d_2024.to_csv('ingresos_ultimos_20d_2024.csv')"
      ]
    },
    {
      "cell_type": "code",
      "execution_count": 87,
      "metadata": {},
      "outputs": [],
      "source": [
        "ingresos_ultimos_20d_2024 = pd.read_csv('ingresos_ultimos_20d_2024.csv')"
      ]
    }
  ],
  "metadata": {
    "colab": {
      "provenance": []
    },
    "kernelspec": {
      "display_name": "Python 3",
      "name": "python3"
    },
    "language_info": {
      "codemirror_mode": {
        "name": "ipython",
        "version": 3
      },
      "file_extension": ".py",
      "mimetype": "text/x-python",
      "name": "python",
      "nbconvert_exporter": "python",
      "pygments_lexer": "ipython3",
      "version": "3.12.3"
    }
  },
  "nbformat": 4,
  "nbformat_minor": 0
}
