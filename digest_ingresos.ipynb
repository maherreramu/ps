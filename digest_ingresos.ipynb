{
  "cells": [
    {
      "cell_type": "code",
      "execution_count": null,
      "metadata": {},
      "outputs": [],
      "source": [
        "#!pip install modin[ray]\n",
        "#!pip install -U ipywidgets"
      ]
    },
    {
      "cell_type": "code",
      "execution_count": 2,
      "metadata": {
        "id": "GlGzG5dPbX4l"
      },
      "outputs": [],
      "source": [
        "import requests\n",
        "from xml.etree import ElementTree as ET\n",
        "import modin.pandas as pd\n",
        "import os\n",
        "import concurrent.futures"
      ]
    },
    {
      "cell_type": "code",
      "execution_count": null,
      "metadata": {},
      "outputs": [],
      "source": [
        "#os.makedirs(\"datos\", exist_ok=True)"
      ]
    },
    {
      "cell_type": "code",
      "execution_count": 35,
      "metadata": {
        "id": "v9HUNe8LfDNs"
      },
      "outputs": [],
      "source": [
        "endpoint = 'https://storage.googleapis.com/validaciones_tmsa/'\n",
        "def descargar_archivo(carpeta_destino, destino, url = endpoint):\n",
        "    file = os.path.join(carpeta_destino, destino.split('/')[1])\n",
        "    response = requests.get(url+destino)\n",
        "    if response.status_code == 200:\n",
        "        with open(file, 'wb') as f:\n",
        "            f.write(response.content)\n",
        "        print(f'Archivo descargado a {file}.')\n",
        "    else:\n",
        "        print(f'Error al descargar el archivo: {response.status_code}')\n",
        "\n",
        "def descargar_archivos_paralelo(carpeta_destino, lista_destinos, url = endpoint):\n",
        "    print(f'Descargando {len(lista_destinos)} archivos en paralelo...')\n",
        "    with concurrent.futures.ThreadPoolExecutor() as executor:\n",
        "        print(f'Usando {executor._max_workers} hilos...')\n",
        "        executor.map(lambda x: descargar_archivo(carpeta_destino, x, url), lista_destinos)"
      ]
    },
    {
      "cell_type": "code",
      "execution_count": 36,
      "metadata": {
        "id": "4jeA1Clhsoy8"
      },
      "outputs": [],
      "source": [
        "def procesar_df(df):\n",
        "    columns = ['Acceso_Estacion', 'Dispositivo', 'Estacion_Parada', 'Fecha_Transaccion']\n",
        "    columns_upper = map(str.upper, columns)\n",
        "\n",
        "    df = df[columns]\n",
        "    df.columns = columns_upper\n",
        "\n",
        "    df = df[df['ESTACION_PARADA'].str.contains('U. NACIONAL', na=False)].drop('ESTACION_PARADA', axis=1).convert_dtypes()\n",
        "    df['DISPOSITIVO'] = df['DISPOSITIVO'].astype('int32')\n",
        "    df['FECHA_TRANSACCION'] = pd.to_datetime(df['FECHA_TRANSACCION'], format='%Y-%m-%d %H:%M:%S')\n",
        "\n",
        "    df.sort_values(by=['FECHA_TRANSACCION'], ascending=[True], inplace=True)\n",
        "\n",
        "    return df"
      ]
    },
    {
      "cell_type": "code",
      "execution_count": 37,
      "metadata": {
        "id": "2EcqAe2nPxtU"
      },
      "outputs": [],
      "source": [
        "def procesar_df_lista(carpeta, file):\n",
        "    f_name = os.path.join(carpeta, file.split('/')[1])\n",
        "\n",
        "    try:\n",
        "        df_tmp = pd.read_csv(f_name)\n",
        "        df_tmp = procesar_df(df_tmp)\n",
        "        print(f'Data frame {f_name} procesado')\n",
        "        try:\n",
        "            os.remove(f_name)\n",
        "            print(f'Archivo {f_name} eliminado')\n",
        "        except Exception as e:\n",
        "            print(f'Error eliminando el archivo {f_name}: {e}')\n",
        "            return None\n",
        "    except Exception as e:\n",
        "        print(f'Error procesando el df {f_name}: {e}')\n",
        "        return None\n",
        "    return df_tmp"
      ]
    },
    {
      "cell_type": "code",
      "execution_count": 38,
      "metadata": {
        "id": "NPuMiy7OYd75"
      },
      "outputs": [],
      "source": [
        "response = requests.get(endpoint)\n",
        "xml_data = response.text\n",
        "\n",
        "root = ET.fromstring(xml_data)"
      ]
    },
    {
      "cell_type": "code",
      "execution_count": 39,
      "metadata": {
        "id": "H94J9z_xdgFa"
      },
      "outputs": [],
      "source": [
        "files = []\n",
        "\n",
        "namespace = {'ns': 'http://doc.s3.amazonaws.com/2006-03-01'}\n",
        "total_size = 0\n",
        "for element, size in zip(root.iterfind('.//ns:Key', namespace), root.iterfind('.//ns:Size', namespace)):\n",
        "    if 'validacionTroncal202401' in element.text or 'validacionTroncal202402' in element.text or 'validacionTroncal202403' in element.text:\n",
        "        files.append(element.text)\n",
        "        total_size += int(size.text)"
      ]
    },
    {
      "cell_type": "code",
      "execution_count": null,
      "metadata": {},
      "outputs": [],
      "source": [
        "total_size_gb = total_size / (1024**3)\n",
        "print(f'Tamaño total: {total_size_gb:.2f} GB')"
      ]
    },
    {
      "cell_type": "code",
      "execution_count": null,
      "metadata": {},
      "outputs": [],
      "source": [
        "len(files)"
      ]
    },
    {
      "cell_type": "code",
      "execution_count": null,
      "metadata": {},
      "outputs": [],
      "source": [
        "import shutil\n",
        "\n",
        "total, used, free = shutil.disk_usage(\"/\")\n",
        "free_gb = free / (1024**3)\n",
        "\n",
        "print(f\"Espacio libre en el disco duro: {free_gb:.2f} GB\")\n"
      ]
    },
    {
      "cell_type": "code",
      "execution_count": 41,
      "metadata": {
        "colab": {
          "base_uri": "https://localhost:8080/"
        },
        "id": "5i2BLBQ700W4",
        "outputId": "c6c9e642-f231-4c1a-be38-0a1e9f591b7f"
      },
      "outputs": [
        {
          "name": "stdout",
          "output_type": "stream",
          "text": [
            "Descargando 57 archivos en paralelo...\n",
            "Usando 8 hilos...\n",
            "Archivo descargado a datos/validacionTroncal20240204.csv.\n",
            "Archivo descargado a datos/validacionTroncal20240211.csv.\n",
            "Archivo descargado a datos/validacionTroncal20240210.csv.\n",
            "Archivo descargado a datos/validacionTroncal20240130.csv.\n",
            "Archivo descargado a datos/validacionTroncal20240131.csv.\n",
            "Archivo descargado a datos/validacionTroncal20240205.csv.\n",
            "Archivo descargado a datos/validacionTroncal20240202.csv.\n",
            "Archivo descargado a datos/validacionTroncal20240207.csv.\n",
            "Archivo descargado a datos/validacionTroncal20240201.csv.\n",
            "Archivo descargado a datos/validacionTroncal20240218.csv.\n",
            "Archivo descargado a datos/validacionTroncal20240212.csv.\n",
            "Archivo descargado a datos/validacionTroncal20240213.csv.\n",
            "Archivo descargado a datos/validacionTroncal20240217.csv.\n",
            "Archivo descargado a datos/validacionTroncal20240215.csv.\n",
            "Archivo descargado a datos/validacionTroncal20240214.csv.\n",
            "Archivo descargado a datos/validacionTroncal20240216.csv.\n",
            "Archivo descargado a datos/validacionTroncal20240219.csv.\n",
            "Archivo descargado a datos/validacionTroncal20240225.csv.\n",
            "Archivo descargado a datos/validacionTroncal20240220.csv.\n"
          ]
        },
        {
          "ename": "",
          "evalue": "",
          "output_type": "error",
          "traceback": [
            "\u001b[1;31mNo se puede ejecutar el código, la sesión se ha eliminado. Intente reiniciar el kernel."
          ]
        },
        {
          "ename": "",
          "evalue": "",
          "output_type": "error",
          "traceback": [
            "\u001b[1;31mEl Kernel se bloqueó al ejecutar código en la celda actual o en una celda anterior. Revise el código de las celdas para identificar una posible causa del error. Haga clic <a href='https://aka.ms/vscodeJupyterKernelCrash'>aquí</a> para obtener más información. Vea el [registro] de Jupyter (command:jupyter.viewOutput) para obtener más detalles."
          ]
        }
      ],
      "source": [
        "ingresos_primer_trimestre_2024 = pd.DataFrame()\n",
        "\n",
        "length = len(files)\n",
        "batches = 4\n",
        "for i in range(batches):\n",
        "    files_batch = files[i*length//batches:(i+1)*length//batches]\n",
        "    descargar_archivos_paralelo(\"datos\", files_batch)\n",
        "    dataframes = [procesar_df_lista(\"datos\", f) for f in files_batch]\n",
        "    ingresos_primer_trimestre_2024 = pd.concat([ingresos_primer_trimestre_2024] + dataframes, join='outer', ignore_index=True)\n",
        "\n",
        "print('**********TODOS LOS ARCHIVOS HAN SIDO PROCESADOS**********')"
      ]
    },
    {
      "cell_type": "code",
      "execution_count": null,
      "metadata": {},
      "outputs": [],
      "source": [
        "jupyter.viewOutput"
      ]
    },
    {
      "cell_type": "code",
      "execution_count": null,
      "metadata": {
        "colab": {
          "base_uri": "https://localhost:8080/"
        },
        "id": "KCnW7tQwrKnK",
        "outputId": "3e6d24c3-316e-45cd-ac3c-a44758a15a7c"
      },
      "outputs": [],
      "source": [
        "dataframes = [procesar_df_lista(\"datos\", f) for f in files]\n",
        "\n",
        "print('**********TODOS LOS ARCHIVOS HAN SIDO PROCESADOS**********')\n",
        "\n",
        "ingresos_primer_trimestre_2024 = pd.concat(dataframes, join='outer', ignore_index=True)"
      ]
    },
    {
      "cell_type": "code",
      "execution_count": null,
      "metadata": {
        "id": "-pPhTswOQxbT"
      },
      "outputs": [],
      "source": [
        "\"\"\"try:\n",
        "    client = Client(processes=True)\n",
        "    dataframes = compute(*[dask.delayed(descargar_y_procesar)(f) for f in files])\n",
        "    print('**********TODOS LOS ARCHIVOS HAN SIDO PROCESADOS**********')\n",
        "\n",
        "    ingresos_primer_trimestre_2024 = pd.concat(dataframes, join='outer', ignore_index=True)\n",
        "except Exception as e:\n",
        "    print(f'Error procesando los archivos con error: {e}')\n",
        "finally:\n",
        "    client.close()\"\"\""
      ]
    },
    {
      "cell_type": "code",
      "execution_count": null,
      "metadata": {
        "colab": {
          "base_uri": "https://localhost:8080/"
        },
        "id": "LgnKriz2AYZI",
        "outputId": "74969c25-e992-4376-b924-dd6c42d45b08"
      },
      "outputs": [
        {
          "name": "stderr",
          "output_type": "stream",
          "text": [
            "UserWarning: `to_csv` is not currently supported by PandasOnDask, defaulting to pandas implementation.\n",
            "Please refer to https://modin.readthedocs.io/en/stable/supported_apis/defaulting_to_pandas.html for explanation.\n"
          ]
        }
      ],
      "source": [
        "ingresos_primer_trimestre_2024.to_csv('ingresos_primer_trimestre_2024.csv')"
      ]
    },
    {
      "cell_type": "code",
      "execution_count": null,
      "metadata": {
        "colab": {
          "base_uri": "https://localhost:8080/",
          "height": 34
        },
        "id": "lV_gJTYV2ypq",
        "outputId": "34b36a76-152a-4381-dec6-aa1e852d82e4"
      },
      "outputs": [
        {
          "data": {
            "application/javascript": "\n    async function download(id, filename, size) {\n      if (!google.colab.kernel.accessAllowed) {\n        return;\n      }\n      const div = document.createElement('div');\n      const label = document.createElement('label');\n      label.textContent = `Downloading \"${filename}\": `;\n      div.appendChild(label);\n      const progress = document.createElement('progress');\n      progress.max = size;\n      div.appendChild(progress);\n      document.body.appendChild(div);\n\n      const buffers = [];\n      let downloaded = 0;\n\n      const channel = await google.colab.kernel.comms.open(id);\n      // Send a message to notify the kernel that we're ready.\n      channel.send({})\n\n      for await (const message of channel.messages) {\n        // Send a message to notify the kernel that we're ready.\n        channel.send({})\n        if (message.buffers) {\n          for (const buffer of message.buffers) {\n            buffers.push(buffer);\n            downloaded += buffer.byteLength;\n            progress.value = downloaded;\n          }\n        }\n      }\n      const blob = new Blob(buffers, {type: 'application/binary'});\n      const a = document.createElement('a');\n      a.href = window.URL.createObjectURL(blob);\n      a.download = filename;\n      div.appendChild(a);\n      a.click();\n      div.remove();\n    }\n  ",
            "text/plain": [
              "<IPython.core.display.Javascript object>"
            ]
          },
          "metadata": {},
          "output_type": "display_data"
        },
        {
          "data": {
            "application/javascript": "download(\"download_4b4bfe91-bf31-43bb-88bb-7da9ba746614\", \"ingresos_primer_trimestre_2024.csv\", 61234815)",
            "text/plain": [
              "<IPython.core.display.Javascript object>"
            ]
          },
          "metadata": {},
          "output_type": "display_data"
        }
      ],
      "source": [
        "from google.colab import files\n",
        "\n",
        "files.download('ingresos_primer_trimestre_2024.csv')\n"
      ]
    },
    {
      "cell_type": "code",
      "execution_count": null,
      "metadata": {
        "id": "jHy-oHvkAopm"
      },
      "outputs": [],
      "source": [
        "ingresos_primer_trimestre_2024"
      ]
    },
    {
      "cell_type": "code",
      "execution_count": null,
      "metadata": {
        "id": "QC6ZC84wZoct"
      },
      "outputs": [],
      "source": [
        "os.list()"
      ]
    }
  ],
  "metadata": {
    "colab": {
      "provenance": []
    },
    "kernelspec": {
      "display_name": "Python 3",
      "name": "python3"
    },
    "language_info": {
      "codemirror_mode": {
        "name": "ipython",
        "version": 3
      },
      "file_extension": ".py",
      "mimetype": "text/x-python",
      "name": "python",
      "nbconvert_exporter": "python",
      "pygments_lexer": "ipython3",
      "version": "3.10.13"
    }
  },
  "nbformat": 4,
  "nbformat_minor": 0
}
