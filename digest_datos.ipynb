{
  "cells": [
    {
      "cell_type": "code",
      "execution_count": 76,
      "metadata": {},
      "outputs": [],
      "source": [
        "#!pip install modin[ray]\n",
        "#!pip install -U ipywidgets"
      ]
    },
    {
      "cell_type": "code",
      "execution_count": 1,
      "metadata": {
        "id": "GlGzG5dPbX4l"
      },
      "outputs": [],
      "source": [
        "import requests\n",
        "from xml.etree import ElementTree as ET\n",
        "import pandas as pd\n",
        "#import modin.pandas as pd\n",
        "import os\n",
        "import datetime\n",
        "import concurrent.futures"
      ]
    },
    {
      "cell_type": "code",
      "execution_count": 2,
      "metadata": {},
      "outputs": [],
      "source": [
        "if not os.path.exists(\"raw_data\"):\n",
        "    os.makedirs(\"raw_data\", exist_ok=True)"
      ]
    },
    {
      "cell_type": "code",
      "execution_count": 3,
      "metadata": {
        "id": "v9HUNe8LfDNs"
      },
      "outputs": [],
      "source": [
        "endpoint = 'https://storage.googleapis.com/validaciones_tmsa/'\n",
        "def descargar_archivo(carpeta_destino, destino, url = endpoint):\n",
        "    file = os.path.join(carpeta_destino, destino.split('/')[-1])\n",
        "    print(f'Descargando {file}...')\n",
        "    response_headers = requests.head(url+destino)\n",
        "    print(f'Tamaño del archivo: {response_headers.headers[\"Content-Length\"]} bytes')\n",
        "    response = requests.get(url+destino)\n",
        "    if response.status_code == 200:\n",
        "        with open(file, 'wb') as f:\n",
        "            f.write(response.content)\n",
        "        print(f'Archivo descargado a {file}.')\n",
        "    else:\n",
        "        print(f'Error al descargar el archivo: {response.status_code}')\n",
        "\n",
        "def descargar_archivos_paralelo(carpeta_destino, lista_destinos, url = endpoint):\n",
        "    print(f'Descargando {len(lista_destinos)} archivos en paralelo...')\n",
        "    with concurrent.futures.ThreadPoolExecutor() as executor:\n",
        "        print(f'Usando {executor._max_workers} hilos...')\n",
        "        executor.map(lambda x: descargar_archivo(carpeta_destino, x, url), lista_destinos)"
      ]
    },
    {
      "cell_type": "code",
      "execution_count": 4,
      "metadata": {},
      "outputs": [],
      "source": [
        "def procesar_df_salidas(df):\n",
        "    columns = ['Fecha_Transaccion', 'Tiempo', 'Dispositivo', 'Estacion']\n",
        "    columns_upper = map(str.upper, columns)\n",
        "\n",
        "    df = df[columns]\n",
        "    df.columns = columns_upper\n",
        "\n",
        "    df = df[df['ESTACION'].str.contains('U. NACIONAL', na=False)].drop('ESTACION', axis=1).convert_dtypes()\n",
        "    df['DISPOSITIVO'] = df['DISPOSITIVO'].astype('int32')\n",
        "    df['FECHA_TRANSACCION'] = pd.to_datetime(df['FECHA_TRANSACCION'], format='%Y-%m-%d').dt.date\n",
        "    df['TIEMPO'] = pd.to_datetime(df['TIEMPO'], format='%H:%M:%S').dt.time\n",
        "    df.sort_values(by=['FECHA_TRANSACCION', 'TIEMPO'], ascending=[True, True], inplace=True)\n",
        "    df = df[df['TIEMPO'].between(pd.to_datetime('16:00:00').time(), pd.to_datetime('18:30:00').time())]\n",
        "    df['TIEMPO'] = pd.to_datetime(df['TIEMPO'], format='%H:%M:%S')\n",
        "    df['DIFERENCIA'] = df.groupby(['FECHA_TRANSACCION', 'DISPOSITIVO'])['TIEMPO'].diff().dt.total_seconds()\n",
        "    df.dropna(subset=['DIFERENCIA'], inplace=True)\n",
        "    df.sort_values(by=['FECHA_TRANSACCION', 'DISPOSITIVO', 'TIEMPO'], ascending=[True, True, True], inplace=True)\n",
        "    df['TIEMPO'] = df['TIEMPO'].dt.time\n",
        "    df.reset_index(drop=True, inplace=True)\n",
        "\n",
        "    return df"
      ]
    },
    {
      "cell_type": "code",
      "execution_count": 5,
      "metadata": {
        "id": "4jeA1Clhsoy8"
      },
      "outputs": [],
      "source": [
        "def procesar_df_ingresos(df):\n",
        "    columns = ['Fecha_Transaccion', 'Dispositivo', 'Estacion_Parada']\n",
        "    columns_upper = map(str.upper, columns)\n",
        "\n",
        "    df = df[columns]\n",
        "    df.columns = columns_upper\n",
        "\n",
        "    df = df[df['ESTACION_PARADA'].str.contains('U. NACIONAL', na=False)].drop('ESTACION_PARADA', axis=1).convert_dtypes()\n",
        "    df['DISPOSITIVO'] = df['DISPOSITIVO'].astype('int32')\n",
        "    df['FECHA_TRANSACCION'] = pd.to_datetime(df['FECHA_TRANSACCION'], format='%Y-%m-%d %H:%M:%S')\n",
        "    df['HORA'] = df['FECHA_TRANSACCION'].dt.time\n",
        "    df['FECHA_TRANSACCION'] = df['FECHA_TRANSACCION'].dt.date\n",
        "    df.sort_values(by=['FECHA_TRANSACCION', 'HORA'], ascending=[True, True], inplace=True)\n",
        "    df = df[df['HORA'].between(pd.to_datetime('16:00:00').time(), pd.to_datetime('18:45:00').time())]\n",
        "    df['HORA'] = pd.to_datetime(df['HORA'], format='%H:%M:%S')\n",
        "    df['DIFERENCIA'] = df.groupby(['FECHA_TRANSACCION', 'DISPOSITIVO'])['HORA'].diff().dt.total_seconds()\n",
        "    df.dropna(subset=['DIFERENCIA'], inplace=True)\n",
        "    df.sort_values(by=['FECHA_TRANSACCION', 'DISPOSITIVO', 'HORA'], ascending=[True, True, True], inplace=True)\n",
        "    df['HORA'] = df['HORA'].dt.time\n",
        "    df.reset_index(drop=True, inplace=True)\n",
        "\n",
        "    return df"
      ]
    },
    {
      "cell_type": "code",
      "execution_count": 6,
      "metadata": {
        "id": "2EcqAe2nPxtU"
      },
      "outputs": [],
      "source": [
        "def procesar_lista_dfs(carpeta, file, func):\n",
        "    f_name = os.path.join(carpeta, file.split('/')[1])\n",
        "\n",
        "    try:\n",
        "        df_tmp = pd.read_csv(f_name)\n",
        "        df_tmp = func(df_tmp)\n",
        "        print(f'Data frame {f_name} procesado')\n",
        "        try:\n",
        "            #os.remove(f_name)\n",
        "            print(f'Archivo {f_name} eliminado')\n",
        "        except Exception as e:\n",
        "            print(f'Error eliminando el archivo {f_name}: {e}')\n",
        "            return None\n",
        "    except Exception as e:\n",
        "        print(f'Error procesando el df {f_name}: {e}')\n",
        "        return None\n",
        "    return df_tmp"
      ]
    },
    {
      "cell_type": "code",
      "execution_count": 7,
      "metadata": {
        "id": "NPuMiy7OYd75"
      },
      "outputs": [],
      "source": [
        "response = requests.get(endpoint)\n",
        "xml_data = response.text\n",
        "\n",
        "root = ET.fromstring(xml_data)"
      ]
    },
    {
      "cell_type": "markdown",
      "metadata": {},
      "source": [
        "# Ingresos"
      ]
    },
    {
      "cell_type": "code",
      "execution_count": 8,
      "metadata": {
        "id": "H94J9z_xdgFa"
      },
      "outputs": [],
      "source": [
        "files_ingresos = []\n",
        "\n",
        "namespace = {'ns': 'http://doc.s3.amazonaws.com/2006-03-01'}\n",
        "total_size = 0\n",
        "for element, size in zip(root.iterfind('.//ns:Key', namespace), root.iterfind('.//ns:Size', namespace)):\n",
        "    if 'validacionTroncal2024' in element.text:\n",
        "        files_ingresos.append(element.text)\n",
        "        total_size += int(size.text)"
      ]
    },
    {
      "cell_type": "code",
      "execution_count": 9,
      "metadata": {},
      "outputs": [
        {
          "name": "stdout",
          "output_type": "stream",
          "text": [
            "Tamaño total: 45.22 GB\n"
          ]
        }
      ],
      "source": [
        "total_size_gb = total_size / (1024**3)\n",
        "print(f'Tamaño total: {total_size_gb:.2f} GB')"
      ]
    },
    {
      "cell_type": "code",
      "execution_count": 10,
      "metadata": {},
      "outputs": [
        {
          "data": {
            "text/plain": [
              "86"
            ]
          },
          "execution_count": 10,
          "metadata": {},
          "output_type": "execute_result"
        }
      ],
      "source": [
        "len(files_ingresos)"
      ]
    },
    {
      "cell_type": "code",
      "execution_count": 11,
      "metadata": {},
      "outputs": [
        {
          "data": {
            "text/plain": [
              "20"
            ]
          },
          "execution_count": 11,
          "metadata": {},
          "output_type": "execute_result"
        }
      ],
      "source": [
        "files_ingresos_to_download = files_ingresos[-20:]\n",
        "len(files_ingresos_to_download)"
      ]
    },
    {
      "cell_type": "code",
      "execution_count": 12,
      "metadata": {
        "colab": {
          "base_uri": "https://localhost:8080/"
        },
        "id": "5i2BLBQ700W4",
        "outputId": "c6c9e642-f231-4c1a-be38-0a1e9f591b7f"
      },
      "outputs": [
        {
          "name": "stdout",
          "output_type": "stream",
          "text": [
            "Procesando batch 1/4...\n",
            "Descargando 5 archivos en paralelo...\n",
            "Usando 12 hilos...\n",
            "Descargando raw_data\\validacionTroncal20240415.csv...\n",
            "Descargando raw_data\\validacionTroncal20240416.csv...\n",
            "Descargando raw_data\\validacionTroncal20240417.csv...\n",
            "Descargando raw_data\\validacionTroncal20240418.csv...\n",
            "Descargando raw_data\\validacionTroncal20240419.csv...\n",
            "Tamaño del archivo: 664868782 bytes\n",
            "Tamaño del archivo: 705764534 bytes\n",
            "Tamaño del archivo: 682319797 bytes\n",
            "Tamaño del archivo: 641647361 bytes\n",
            "Tamaño del archivo: 699438055 bytes\n",
            "Archivo descargado a raw_data\\validacionTroncal20240417.csv.\n",
            "Archivo descargado a raw_data\\validacionTroncal20240419.csv.\n",
            "Archivo descargado a raw_data\\validacionTroncal20240416.csv.\n",
            "Archivo descargado a raw_data\\validacionTroncal20240415.csv.\n",
            "Archivo descargado a raw_data\\validacionTroncal20240418.csv.\n",
            "Data frame raw_data\\validacionTroncal20240415.csv procesado\n",
            "Archivo raw_data\\validacionTroncal20240415.csv eliminado\n",
            "Data frame raw_data\\validacionTroncal20240416.csv procesado\n",
            "Archivo raw_data\\validacionTroncal20240416.csv eliminado\n",
            "Data frame raw_data\\validacionTroncal20240417.csv procesado\n",
            "Archivo raw_data\\validacionTroncal20240417.csv eliminado\n",
            "Data frame raw_data\\validacionTroncal20240418.csv procesado\n",
            "Archivo raw_data\\validacionTroncal20240418.csv eliminado\n",
            "Data frame raw_data\\validacionTroncal20240419.csv procesado\n",
            "Archivo raw_data\\validacionTroncal20240419.csv eliminado\n",
            "Procesando batch 2/4...\n",
            "Descargando 5 archivos en paralelo...\n",
            "Usando 12 hilos...\n",
            "Descargando raw_data\\validacionTroncal20240420.csv...\n",
            "Descargando raw_data\\validacionTroncal20240421.csv...\n",
            "Descargando raw_data\\validacionTroncal20240422.csv...\n",
            "Descargando raw_data\\validacionTroncal20240423.csv...\n",
            "Descargando raw_data\\validacionTroncal20240424.csv...\n",
            "Tamaño del archivo: 692812320 bytes\n",
            "Tamaño del archivo: 686377525 bytes\n",
            "Tamaño del archivo: 677089232 bytes\n",
            "Tamaño del archivo: 466070776 bytes\n",
            "Tamaño del archivo: 236110196 bytes\n",
            "Archivo descargado a raw_data\\validacionTroncal20240421.csv.\n",
            "Archivo descargado a raw_data\\validacionTroncal20240424.csv.\n",
            "Archivo descargado a raw_data\\validacionTroncal20240423.csv.\n",
            "Archivo descargado a raw_data\\validacionTroncal20240420.csv.\n",
            "Archivo descargado a raw_data\\validacionTroncal20240422.csv.\n",
            "Data frame raw_data\\validacionTroncal20240420.csv procesado\n",
            "Archivo raw_data\\validacionTroncal20240420.csv eliminado\n",
            "Data frame raw_data\\validacionTroncal20240421.csv procesado\n",
            "Archivo raw_data\\validacionTroncal20240421.csv eliminado\n",
            "Data frame raw_data\\validacionTroncal20240422.csv procesado\n",
            "Archivo raw_data\\validacionTroncal20240422.csv eliminado\n",
            "Data frame raw_data\\validacionTroncal20240423.csv procesado\n",
            "Archivo raw_data\\validacionTroncal20240423.csv eliminado\n",
            "Data frame raw_data\\validacionTroncal20240424.csv procesado\n",
            "Archivo raw_data\\validacionTroncal20240424.csv eliminado\n",
            "Procesando batch 3/4...\n",
            "Descargando 5 archivos en paralelo...\n",
            "Usando 12 hilos...\n",
            "Descargando raw_data\\validacionTroncal20240425.csv...\n",
            "Descargando raw_data\\validacionTroncal20240426.csv...\n",
            "Descargando raw_data\\validacionTroncal20240427.csv...\n",
            "Descargando raw_data\\validacionTroncal20240428.csv...\n",
            "Descargando raw_data\\validacionTroncal20240429.csv...\n",
            "Tamaño del archivo: 208563083 bytes\n",
            "Tamaño del archivo: 676826630 bytes\n",
            "Tamaño del archivo: 682297940 bytes\n",
            "Tamaño del archivo: 647178127 bytes\n",
            "Tamaño del archivo: 461752755 bytes\n",
            "Archivo descargado a raw_data\\validacionTroncal20240428.csv.\n",
            "Archivo descargado a raw_data\\validacionTroncal20240426.csv.\n",
            "Archivo descargado a raw_data\\validacionTroncal20240427.csv.\n",
            "Archivo descargado a raw_data\\validacionTroncal20240425.csv.\n",
            "Archivo descargado a raw_data\\validacionTroncal20240429.csv.\n",
            "Data frame raw_data\\validacionTroncal20240425.csv procesado\n",
            "Archivo raw_data\\validacionTroncal20240425.csv eliminado\n",
            "Data frame raw_data\\validacionTroncal20240426.csv procesado\n",
            "Archivo raw_data\\validacionTroncal20240426.csv eliminado\n",
            "Data frame raw_data\\validacionTroncal20240427.csv procesado\n",
            "Archivo raw_data\\validacionTroncal20240427.csv eliminado\n",
            "Data frame raw_data\\validacionTroncal20240428.csv procesado\n",
            "Archivo raw_data\\validacionTroncal20240428.csv eliminado\n",
            "Data frame raw_data\\validacionTroncal20240429.csv procesado\n",
            "Archivo raw_data\\validacionTroncal20240429.csv eliminado\n",
            "Procesando batch 4/4...\n",
            "Descargando 5 archivos en paralelo...\n",
            "Usando 12 hilos...\n",
            "Descargando raw_data\\validacionTroncal20240430.csv...\n",
            "Descargando raw_data\\validacionTroncal20240501.csv...\n",
            "Descargando raw_data\\validacionTroncal20240502.csv...\n",
            "Descargando raw_data\\validacionTroncal20240503.csv...\n",
            "Descargando raw_data\\validacionTroncal20240504.csv...\n",
            "Tamaño del archivo: 469070787 bytes\n",
            "Tamaño del archivo: 684385248 bytes\n",
            "Tamaño del archivo: 217025468 bytes\n",
            "Tamaño del archivo: 680809864 bytes\n",
            "Tamaño del archivo: 679382091 bytes\n",
            "Archivo descargado a raw_data\\validacionTroncal20240504.csv.\n",
            "Archivo descargado a raw_data\\validacionTroncal20240501.csv.\n",
            "Archivo descargado a raw_data\\validacionTroncal20240502.csv.\n",
            "Archivo descargado a raw_data\\validacionTroncal20240430.csv.\n",
            "Archivo descargado a raw_data\\validacionTroncal20240503.csv.\n",
            "Data frame raw_data\\validacionTroncal20240430.csv procesado\n",
            "Archivo raw_data\\validacionTroncal20240430.csv eliminado\n",
            "Data frame raw_data\\validacionTroncal20240501.csv procesado\n",
            "Archivo raw_data\\validacionTroncal20240501.csv eliminado\n",
            "Data frame raw_data\\validacionTroncal20240502.csv procesado\n",
            "Archivo raw_data\\validacionTroncal20240502.csv eliminado\n",
            "Data frame raw_data\\validacionTroncal20240503.csv procesado\n",
            "Archivo raw_data\\validacionTroncal20240503.csv eliminado\n",
            "Data frame raw_data\\validacionTroncal20240504.csv procesado\n",
            "Archivo raw_data\\validacionTroncal20240504.csv eliminado\n",
            "**********TODOS LOS ARCHIVOS HAN SIDO PROCESADOS**********\n"
          ]
        }
      ],
      "source": [
        "ingresos_ultimos_20d_2024= pd.DataFrame()\n",
        "\n",
        "files_ingresos_to_download = files_ingresos[-20:]\n",
        "length = len(files_ingresos_to_download)\n",
        "batches = 4\n",
        "for i in range(batches):\n",
        "    print(f'Procesando batch {i+1}/{batches}...')\n",
        "    files_ingresos_batch = files_ingresos_to_download[i*length//batches:(i+1)*length//batches]\n",
        "    descargar_archivos_paralelo(\"raw_data\", files_ingresos_batch)\n",
        "    dataframes = [procesar_lista_dfs(\"raw_data\", f, procesar_df_ingresos) for f in files_ingresos_batch]\n",
        "    ingresos_ultimos_20d_2024 = pd.concat([ingresos_ultimos_20d_2024] + dataframes, join='outer', ignore_index=True)\n",
        "\n",
        "print('**********TODOS LOS ARCHIVOS HAN SIDO PROCESADOS**********')"
      ]
    },
    {
      "cell_type": "code",
      "execution_count": 13,
      "metadata": {
        "colab": {
          "base_uri": "https://localhost:8080/"
        },
        "id": "LgnKriz2AYZI",
        "outputId": "74969c25-e992-4376-b924-dd6c42d45b08"
      },
      "outputs": [],
      "source": [
        "ingresos_ultimos_20d_2024.to_csv('ingresos_ultimos_20d_2024.csv')\n",
        "#ingresos_ultimos_20d_2024 = pd.read_csv('ingresos_ultimos_20d_2024.csv')"
      ]
    },
    {
      "cell_type": "code",
      "execution_count": 14,
      "metadata": {},
      "outputs": [
        {
          "data": {
            "text/html": [
              "<div>\n",
              "<style scoped>\n",
              "    .dataframe tbody tr th:only-of-type {\n",
              "        vertical-align: middle;\n",
              "    }\n",
              "\n",
              "    .dataframe tbody tr th {\n",
              "        vertical-align: top;\n",
              "    }\n",
              "\n",
              "    .dataframe thead th {\n",
              "        text-align: right;\n",
              "    }\n",
              "</style>\n",
              "<table border=\"1\" class=\"dataframe\">\n",
              "  <thead>\n",
              "    <tr style=\"text-align: right;\">\n",
              "      <th></th>\n",
              "      <th>DISPOSITIVO</th>\n",
              "      <th>DIFERENCIA</th>\n",
              "    </tr>\n",
              "  </thead>\n",
              "  <tbody>\n",
              "    <tr>\n",
              "      <th>count</th>\n",
              "      <td>3.779500e+04</td>\n",
              "      <td>37795.000000</td>\n",
              "    </tr>\n",
              "    <tr>\n",
              "      <th>mean</th>\n",
              "      <td>2.839048e+07</td>\n",
              "      <td>16.973727</td>\n",
              "    </tr>\n",
              "    <tr>\n",
              "      <th>std</th>\n",
              "      <td>1.069183e+08</td>\n",
              "      <td>82.623907</td>\n",
              "    </tr>\n",
              "    <tr>\n",
              "      <th>min</th>\n",
              "      <td>1.000054e+07</td>\n",
              "      <td>0.000000</td>\n",
              "    </tr>\n",
              "    <tr>\n",
              "      <th>25%</th>\n",
              "      <td>1.000055e+07</td>\n",
              "      <td>4.000000</td>\n",
              "    </tr>\n",
              "    <tr>\n",
              "      <th>50%</th>\n",
              "      <td>1.000055e+07</td>\n",
              "      <td>6.000000</td>\n",
              "    </tr>\n",
              "    <tr>\n",
              "      <th>75%</th>\n",
              "      <td>1.000055e+07</td>\n",
              "      <td>14.000000</td>\n",
              "    </tr>\n",
              "    <tr>\n",
              "      <th>max</th>\n",
              "      <td>6.500003e+08</td>\n",
              "      <td>8297.000000</td>\n",
              "    </tr>\n",
              "  </tbody>\n",
              "</table>\n",
              "</div>"
            ],
            "text/plain": [
              "        DISPOSITIVO    DIFERENCIA\n",
              "count  3.779500e+04  37795.000000\n",
              "mean   2.839048e+07     16.973727\n",
              "std    1.069183e+08     82.623907\n",
              "min    1.000054e+07      0.000000\n",
              "25%    1.000055e+07      4.000000\n",
              "50%    1.000055e+07      6.000000\n",
              "75%    1.000055e+07     14.000000\n",
              "max    6.500003e+08   8297.000000"
            ]
          },
          "execution_count": 14,
          "metadata": {},
          "output_type": "execute_result"
        }
      ],
      "source": [
        "ingresos_ultimos_20d_2024.describe()"
      ]
    },
    {
      "cell_type": "code",
      "execution_count": 15,
      "metadata": {},
      "outputs": [
        {
          "data": {
            "text/plain": [
              "Index([13781], dtype='int64')"
            ]
          },
          "execution_count": 15,
          "metadata": {},
          "output_type": "execute_result"
        }
      ],
      "source": [
        "ingresos_ultimos_20d_2024[ingresos_ultimos_20d_2024['DIFERENCIA'] == 3832].index"
      ]
    },
    {
      "cell_type": "code",
      "execution_count": 16,
      "metadata": {},
      "outputs": [
        {
          "data": {
            "text/plain": [
              "<Axes: >"
            ]
          },
          "execution_count": 16,
          "metadata": {},
          "output_type": "execute_result"
        },
        {
          "data": {
            "image/png": "[encoded data removed]",
            "text/plain": [
              "<Figure size 640x480 with 1 Axes>"
            ]
          },
          "metadata": {},
          "output_type": "display_data"
        }
      ],
      "source": [
        "ingresos_ultimos_20d_2024['DIFERENCIA'].plot(kind='box')"
      ]
    },
    {
      "cell_type": "code",
      "execution_count": 17,
      "metadata": {},
      "outputs": [],
      "source": [
        "Q1 = ingresos_ultimos_20d_2024['DIFERENCIA'].quantile(0.25)\n",
        "Q3 = ingresos_ultimos_20d_2024['DIFERENCIA'].quantile(0.75)\n",
        "IQR = Q3 - Q1\n",
        "\n",
        "filtro = (ingresos_ultimos_20d_2024['DIFERENCIA'] >= Q1 - 1.5 * IQR) & (ingresos_ultimos_20d_2024['DIFERENCIA'] <= Q3 + 1.5 * IQR)\n",
        "ingresos_ultimos_20d_2024_filtrado = ingresos_ultimos_20d_2024.loc[filtro]  "
      ]
    },
    {
      "cell_type": "code",
      "execution_count": 18,
      "metadata": {},
      "outputs": [
        {
          "data": {
            "text/plain": [
              "<Axes: >"
            ]
          },
          "execution_count": 18,
          "metadata": {},
          "output_type": "execute_result"
        },
        {
          "data": {
            "image/png": "[encoded data removed]",
            "text/plain": [
              "<Figure size 640x480 with 1 Axes>"
            ]
          },
          "metadata": {},
          "output_type": "display_data"
        }
      ],
      "source": [
        "ingresos_ultimos_20d_2024_filtrado['DIFERENCIA'].plot(kind='box')"
      ]
    },
    {
      "cell_type": "code",
      "execution_count": 19,
      "metadata": {},
      "outputs": [
        {
          "data": {
            "text/plain": [
              "<Axes: ylabel='Frequency'>"
            ]
          },
          "execution_count": 19,
          "metadata": {},
          "output_type": "execute_result"
        },
        {
          "data": {
            "image/png": "[encoded data removed]",
            "text/plain": [
              "<Figure size 640x480 with 1 Axes>"
            ]
          },
          "metadata": {},
          "output_type": "display_data"
        }
      ],
      "source": [
        "ingresos_ultimos_20d_2024_filtrado['DIFERENCIA'].plot(kind='hist', bins=25)"
      ]
    },
    {
      "cell_type": "code",
      "execution_count": 20,
      "metadata": {},
      "outputs": [
        {
          "data": {
            "text/plain": [
              "<Axes: ylabel='Density'>"
            ]
          },
          "execution_count": 20,
          "metadata": {},
          "output_type": "execute_result"
        },
        {
          "data": {
            "image/png": "[encoded data removed]",
            "text/plain": [
              "<Figure size 640x480 with 1 Axes>"
            ]
          },
          "metadata": {},
          "output_type": "display_data"
        }
      ],
      "source": [
        "ingresos_ultimos_20d_2024_filtrado['DIFERENCIA'].plot(kind='kde')"
      ]
    },
    {
      "cell_type": "code",
      "execution_count": 21,
      "metadata": {},
      "outputs": [
        {
          "data": {
            "image/png": "[encoded data removed]",
            "text/plain": [
              "<Figure size 640x480 with 1 Axes>"
            ]
          },
          "metadata": {},
          "output_type": "display_data"
        },
        {
          "data": {
            "image/png": "[encoded data removed]",
            "text/plain": [
              "<Figure size 640x480 with 1 Axes>"
            ]
          },
          "metadata": {},
          "output_type": "display_data"
        },
        {
          "data": {
            "image/png": "[encoded data removed]",
            "text/plain": [
              "<Figure size 640x480 with 1 Axes>"
            ]
          },
          "metadata": {},
          "output_type": "display_data"
        },
        {
          "data": {
            "image/png": "[encoded data removed]",
            "text/plain": [
              "<Figure size 640x480 with 1 Axes>"
            ]
          },
          "metadata": {},
          "output_type": "display_data"
        },
        {
          "name": "stderr",
          "output_type": "stream",
          "text": [
            "d:\\Users\\mateo\\GitHub\\ps\\.venv\\Lib\\site-packages\\scipy\\stats\\_continuous_distns.py:6556: RuntimeWarning: divide by zero encountered in log\n",
            "  return np.sum((1 + np.log(shifted/scale)/shape**2)/shifted)\n"
          ]
        },
        {
          "data": {
            "image/png": "[encoded data removed]",
            "text/plain": [
              "<Figure size 640x480 with 1 Axes>"
            ]
          },
          "metadata": {},
          "output_type": "display_data"
        }
      ],
      "source": [
        "import scipy.stats as st\n",
        "import matplotlib.pyplot as plt\n",
        "import numpy as np\n",
        "\n",
        "# Obtén los datos de la columna que te interesa\n",
        "datos = ingresos_ultimos_20d_2024_filtrado['DIFERENCIA']\n",
        "\n",
        "# Define las distribuciones a probar\n",
        "distribuciones = [st.chi2, st.gamma, st.expon, st.weibull_min, st.lognorm]\n",
        "\n",
        "# Para cada distribución\n",
        "for distribucion in distribuciones:\n",
        "    # Ajusta los datos a la distribución\n",
        "    parametros = distribucion.fit(datos)\n",
        "    \n",
        "    # Crea una figura y un eje para el gráfico\n",
        "    fig, ax = plt.subplots(1, 1)\n",
        "    \n",
        "    # Genera una serie de valores x\n",
        "    x = np.linspace(min(datos), max(datos), 1000)\n",
        "    \n",
        "    # Genera los valores y de la PDF ajustada\n",
        "    y = distribucion.pdf(x, *parametros)\n",
        "    \n",
        "    # Grafica los datos y la PDF ajustada\n",
        "    ax.hist(datos, bins=30, density=True, alpha=0.5)\n",
        "    ax.plot(x, y, 'r-', lw=2)\n",
        "    \n",
        "    # Muestra el gráfico\n",
        "    plt.title(f'Ajuste con {distribucion.name}')\n",
        "    plt.show()"
      ]
    },
    {
      "cell_type": "code",
      "execution_count": 22,
      "metadata": {},
      "outputs": [
        {
          "data": {
            "text/plain": [
              "count    37795.000000\n",
              "mean        16.973727\n",
              "std         82.623907\n",
              "min          0.000000\n",
              "25%          4.000000\n",
              "50%          6.000000\n",
              "75%         14.000000\n",
              "max       8297.000000\n",
              "Name: DIFERENCIA, dtype: float64"
            ]
          },
          "execution_count": 22,
          "metadata": {},
          "output_type": "execute_result"
        }
      ],
      "source": [
        "ingresos_ultimos_20d_2024['DIFERENCIA'].describe()"
      ]
    },
    {
      "cell_type": "code",
      "execution_count": 26,
      "metadata": {},
      "outputs": [
        {
          "data": {
            "text/plain": [
              "count    33615.000000\n",
              "mean         7.976707\n",
              "std          5.988438\n",
              "min          0.000000\n",
              "25%          4.000000\n",
              "50%          5.000000\n",
              "75%         10.000000\n",
              "max         29.000000\n",
              "Name: DIFERENCIA, dtype: float64"
            ]
          },
          "execution_count": 26,
          "metadata": {},
          "output_type": "execute_result"
        }
      ],
      "source": [
        "ingresos_ultimos_20d_2024_filtrado['DIFERENCIA'].describe()"
      ]
    },
    {
      "cell_type": "code",
      "execution_count": 24,
      "metadata": {},
      "outputs": [
        {
          "data": {
            "text/plain": [
              "'ValidacionTroncal/validacionTroncal20240415.csv'"
            ]
          },
          "execution_count": 24,
          "metadata": {},
          "output_type": "execute_result"
        }
      ],
      "source": [
        "files_ingresos[-20]"
      ]
    },
    {
      "cell_type": "code",
      "execution_count": 25,
      "metadata": {},
      "outputs": [
        {
          "data": {
            "text/plain": [
              "'ValidacionTroncal/validacionTroncal20240504.csv'"
            ]
          },
          "execution_count": 25,
          "metadata": {},
          "output_type": "execute_result"
        }
      ],
      "source": [
        "files_ingresos[-1]"
      ]
    },
    {
      "cell_type": "markdown",
      "metadata": {},
      "source": [
        "# Salidas"
      ]
    },
    {
      "cell_type": "code",
      "execution_count": 102,
      "metadata": {},
      "outputs": [],
      "source": [
        "files_salidas = []\n",
        "\n",
        "namespace = {'ns': 'http://doc.s3.amazonaws.com/2006-03-01'}\n",
        "total_size = 0\n",
        "for element, size in zip(root.iterfind('.//ns:Key', namespace), root.iterfind('.//ns:Size', namespace)):\n",
        "    if 'salidas2024' in element.text:\n",
        "        files_salidas.append(element.text)\n",
        "        total_size += int(size.text)"
      ]
    },
    {
      "cell_type": "code",
      "execution_count": 103,
      "metadata": {},
      "outputs": [],
      "source": [
        "files_salidas_to_download = files_salidas[-20:]"
      ]
    },
    {
      "cell_type": "code",
      "execution_count": 104,
      "metadata": {},
      "outputs": [
        {
          "name": "stdout",
          "output_type": "stream",
          "text": [
            "Procesando batch 1/4...\n",
            "Descargando 5 archivos en paralelo...\n",
            "Usando 12 hilos...\n",
            "Descargando raw_data\\salidas20240415.csv...\n",
            "Descargando raw_data\\salidas20240416.csv...\n",
            "Descargando raw_data\\salidas20240417.csv...\n",
            "Descargando raw_data\\salidas20240418.csv...\n",
            "Descargando raw_data\\salidas20240419.csv...\n",
            "Tamaño del archivo: 20695876 bytes\n",
            "Tamaño del archivo: 20682546 bytes\n",
            "Tamaño del archivo: 20692389 bytes\n",
            "Tamaño del archivo: 20817852 bytes\n",
            "Tamaño del archivo: 20650982 bytes\n",
            "Archivo descargado a raw_data\\salidas20240418.csv.\n",
            "Archivo descargado a raw_data\\salidas20240417.csv.\n",
            "Archivo descargado a raw_data\\salidas20240419.csv.\n",
            "Archivo descargado a raw_data\\salidas20240415.csv.\n",
            "Archivo descargado a raw_data\\salidas20240416.csv.\n",
            "Data frame raw_data\\salidas20240415.csv procesado\n",
            "Archivo raw_data\\salidas20240415.csv eliminado\n",
            "Data frame raw_data\\salidas20240416.csv procesado\n",
            "Archivo raw_data\\salidas20240416.csv eliminado\n",
            "Data frame raw_data\\salidas20240417.csv procesado\n",
            "Archivo raw_data\\salidas20240417.csv eliminado\n",
            "Data frame raw_data\\salidas20240418.csv procesado\n",
            "Archivo raw_data\\salidas20240418.csv eliminado\n",
            "Data frame raw_data\\salidas20240419.csv procesado\n",
            "Archivo raw_data\\salidas20240419.csv eliminado\n",
            "Procesando batch 2/4...\n",
            "Descargando 5 archivos en paralelo...\n",
            "Usando 12 hilos...\n",
            "Descargando raw_data\\salidas20240420.csv...\n",
            "Descargando raw_data\\salidas20240421.csv...\n",
            "Descargando raw_data\\salidas20240422.csv...\n",
            "Descargando raw_data\\salidas20240423.csv...\n",
            "Descargando raw_data\\salidas20240424.csv...\n",
            "Tamaño del archivo: 20591928 bytes\n",
            "Tamaño del archivo: 20600979 bytes\n",
            "Tamaño del archivo: 20632060 bytes\n",
            "Tamaño del archivo: 20566567 bytes\n",
            "Tamaño del archivo: 20660281 bytes\n",
            "Archivo descargado a raw_data\\salidas20240422.csv.\n",
            "Archivo descargado a raw_data\\salidas20240421.csv.\n",
            "Archivo descargado a raw_data\\salidas20240423.csv.\n",
            "Archivo descargado a raw_data\\salidas20240420.csv.\n",
            "Archivo descargado a raw_data\\salidas20240424.csv.\n",
            "Data frame raw_data\\salidas20240420.csv procesado\n",
            "Archivo raw_data\\salidas20240420.csv eliminado\n",
            "Data frame raw_data\\salidas20240421.csv procesado\n",
            "Archivo raw_data\\salidas20240421.csv eliminado\n",
            "Data frame raw_data\\salidas20240422.csv procesado\n",
            "Archivo raw_data\\salidas20240422.csv eliminado\n",
            "Data frame raw_data\\salidas20240423.csv procesado\n",
            "Archivo raw_data\\salidas20240423.csv eliminado\n",
            "Data frame raw_data\\salidas20240424.csv procesado\n",
            "Archivo raw_data\\salidas20240424.csv eliminado\n",
            "Procesando batch 3/4...\n",
            "Descargando 5 archivos en paralelo...\n",
            "Usando 12 hilos...\n",
            "Descargando raw_data\\salidas20240425.csv...\n",
            "Descargando raw_data\\salidas20240426.csv...\n",
            "Descargando raw_data\\salidas20240427.csv...\n",
            "Descargando raw_data\\salidas20240428.csv...\n",
            "Descargando raw_data\\salidas20240429.csv...\n",
            "Tamaño del archivo: 11306059 bytes\n",
            "Tamaño del archivo: 20659157 bytes\n",
            "Tamaño del archivo: 10365976 bytes\n",
            "Tamaño del archivo: 20236418 bytes\n",
            "Tamaño del archivo: 20693077 bytes\n",
            "Archivo descargado a raw_data\\salidas20240427.csv.\n",
            "Archivo descargado a raw_data\\salidas20240429.csv.\n",
            "Archivo descargado a raw_data\\salidas20240428.csv.\n",
            "Archivo descargado a raw_data\\salidas20240425.csv.\n",
            "Archivo descargado a raw_data\\salidas20240426.csv.\n",
            "Data frame raw_data\\salidas20240425.csv procesado\n",
            "Archivo raw_data\\salidas20240425.csv eliminado\n",
            "Data frame raw_data\\salidas20240426.csv procesado\n",
            "Archivo raw_data\\salidas20240426.csv eliminado\n",
            "Data frame raw_data\\salidas20240427.csv procesado\n",
            "Archivo raw_data\\salidas20240427.csv eliminado\n",
            "Data frame raw_data\\salidas20240428.csv procesado\n",
            "Archivo raw_data\\salidas20240428.csv eliminado\n",
            "Data frame raw_data\\salidas20240429.csv procesado\n",
            "Archivo raw_data\\salidas20240429.csv eliminado\n",
            "Procesando batch 4/4...\n",
            "Descargando 5 archivos en paralelo...\n",
            "Usando 12 hilos...\n",
            "Descargando raw_data\\salidas20240430.csv...\n",
            "Descargando raw_data\\salidas20240501.csv...\n",
            "Descargando raw_data\\salidas20240502.csv...\n",
            "Descargando raw_data\\salidas20240503.csv...\n",
            "Descargando raw_data\\salidas20240504.csv...\n",
            "Tamaño del archivo: 20689554 bytes\n",
            "Tamaño del archivo: 20663463 bytes\n",
            "Tamaño del archivo: 20722990 bytes\n",
            "Tamaño del archivo: 20507798 bytes\n",
            "Tamaño del archivo: 20717453 bytes\n",
            "Archivo descargado a raw_data\\salidas20240430.csv.\n",
            "Archivo descargado a raw_data\\salidas20240503.csv.\n",
            "Archivo descargado a raw_data\\salidas20240502.csv.\n",
            "Archivo descargado a raw_data\\salidas20240501.csv.\n",
            "Archivo descargado a raw_data\\salidas20240504.csv.\n",
            "Data frame raw_data\\salidas20240430.csv procesado\n",
            "Archivo raw_data\\salidas20240430.csv eliminado\n",
            "Data frame raw_data\\salidas20240501.csv procesado\n",
            "Archivo raw_data\\salidas20240501.csv eliminado\n",
            "Data frame raw_data\\salidas20240502.csv procesado\n",
            "Archivo raw_data\\salidas20240502.csv eliminado\n",
            "Data frame raw_data\\salidas20240503.csv procesado\n",
            "Archivo raw_data\\salidas20240503.csv eliminado\n",
            "Data frame raw_data\\salidas20240504.csv procesado\n",
            "Archivo raw_data\\salidas20240504.csv eliminado\n",
            "**********TODOS LOS ARCHIVOS HAN SIDO PROCESADOS**********\n"
          ]
        }
      ],
      "source": [
        "salidas_ultimos_20d_2024= pd.DataFrame()\n",
        "\n",
        "files_salidas_to_download = files_salidas[-20:]\n",
        "length = len(files_salidas_to_download)\n",
        "batches = 4\n",
        "for i in range(batches):\n",
        "    print(f'Procesando batch {i+1}/{batches}...')\n",
        "    files_salidas_batch = files_salidas_to_download[i*length//batches:(i+1)*length//batches]\n",
        "    descargar_archivos_paralelo(\"raw_data\", files_salidas_batch)\n",
        "    dataframes = [procesar_lista_dfs(\"raw_data\", f, procesar_df_salidas) for f in files_salidas_batch]\n",
        "    salidas_ultimos_20d_2024 = pd.concat([salidas_ultimos_20d_2024] + dataframes, join='outer', ignore_index=True)\n",
        "\n",
        "print('**********TODOS LOS ARCHIVOS HAN SIDO PROCESADOS**********')"
      ]
    },
    {
      "cell_type": "code",
      "execution_count": 113,
      "metadata": {},
      "outputs": [
        {
          "data": {
            "text/plain": [
              "array([datetime.time(16, 0), datetime.time(16, 15), datetime.time(16, 30),\n",
              "       datetime.time(16, 45), datetime.time(17, 0), datetime.time(17, 15),\n",
              "       datetime.time(17, 30), datetime.time(17, 45), datetime.time(18, 0),\n",
              "       datetime.time(18, 15), datetime.time(18, 30)], dtype=object)"
            ]
          },
          "execution_count": 113,
          "metadata": {},
          "output_type": "execute_result"
        }
      ],
      "source": [
        "bins = pd.date_range(start='16:00:00', end='18:30:00', freq='15min').time\n",
        "bins"
      ]
    },
    {
      "cell_type": "code",
      "execution_count": 105,
      "metadata": {},
      "outputs": [],
      "source": [
        "salidas_ultimos_20d_2024.to_csv('salidas_ultimos_20d_2024.csv')"
      ]
    },
    {
      "cell_type": "code",
      "execution_count": 109,
      "metadata": {},
      "outputs": [
        {
          "data": {
            "text/html": [
              "<div>\n",
              "<style scoped>\n",
              "    .dataframe tbody tr th:only-of-type {\n",
              "        vertical-align: middle;\n",
              "    }\n",
              "\n",
              "    .dataframe tbody tr th {\n",
              "        vertical-align: top;\n",
              "    }\n",
              "\n",
              "    .dataframe thead th {\n",
              "        text-align: right;\n",
              "    }\n",
              "</style>\n",
              "<table border=\"1\" class=\"dataframe\">\n",
              "  <thead>\n",
              "    <tr style=\"text-align: right;\">\n",
              "      <th></th>\n",
              "      <th>FECHA_TRANSACCION</th>\n",
              "      <th>TIEMPO</th>\n",
              "      <th>DIFERENCIA</th>\n",
              "    </tr>\n",
              "    <tr>\n",
              "      <th>DISPOSITIVO</th>\n",
              "      <th></th>\n",
              "      <th></th>\n",
              "      <th></th>\n",
              "    </tr>\n",
              "  </thead>\n",
              "  <tbody>\n",
              "    <tr>\n",
              "      <th>10000543</th>\n",
              "      <td>100</td>\n",
              "      <td>100</td>\n",
              "      <td>100</td>\n",
              "    </tr>\n",
              "    <tr>\n",
              "      <th>10000544</th>\n",
              "      <td>100</td>\n",
              "      <td>100</td>\n",
              "      <td>100</td>\n",
              "    </tr>\n",
              "    <tr>\n",
              "      <th>10000545</th>\n",
              "      <td>100</td>\n",
              "      <td>100</td>\n",
              "      <td>100</td>\n",
              "    </tr>\n",
              "    <tr>\n",
              "      <th>10000546</th>\n",
              "      <td>150</td>\n",
              "      <td>150</td>\n",
              "      <td>150</td>\n",
              "    </tr>\n",
              "    <tr>\n",
              "      <th>10000547</th>\n",
              "      <td>150</td>\n",
              "      <td>150</td>\n",
              "      <td>150</td>\n",
              "    </tr>\n",
              "    <tr>\n",
              "      <th>10000548</th>\n",
              "      <td>150</td>\n",
              "      <td>150</td>\n",
              "      <td>150</td>\n",
              "    </tr>\n",
              "    <tr>\n",
              "      <th>10001648</th>\n",
              "      <td>150</td>\n",
              "      <td>150</td>\n",
              "      <td>150</td>\n",
              "    </tr>\n",
              "  </tbody>\n",
              "</table>\n",
              "</div>"
            ],
            "text/plain": [
              "             FECHA_TRANSACCION  TIEMPO  DIFERENCIA\n",
              "DISPOSITIVO                                       \n",
              "10000543                   100     100         100\n",
              "10000544                   100     100         100\n",
              "10000545                   100     100         100\n",
              "10000546                   150     150         150\n",
              "10000547                   150     150         150\n",
              "10000548                   150     150         150\n",
              "10001648                   150     150         150"
            ]
          },
          "execution_count": 109,
          "metadata": {},
          "output_type": "execute_result"
        }
      ],
      "source": [
        "salidas_ultimos_20d_2024.groupby(by='DISPOSITIVO').count()"
      ]
    },
    {
      "cell_type": "code",
      "execution_count": 29,
      "metadata": {},
      "outputs": [
        {
          "data": {
            "text/html": [
              "<div>\n",
              "<style scoped>\n",
              "    .dataframe tbody tr th:only-of-type {\n",
              "        vertical-align: middle;\n",
              "    }\n",
              "\n",
              "    .dataframe tbody tr th {\n",
              "        vertical-align: top;\n",
              "    }\n",
              "\n",
              "    .dataframe thead th {\n",
              "        text-align: right;\n",
              "    }\n",
              "</style>\n",
              "<table border=\"1\" class=\"dataframe\">\n",
              "  <thead>\n",
              "    <tr style=\"text-align: right;\">\n",
              "      <th></th>\n",
              "      <th>FECHA_TRANSACCION</th>\n",
              "      <th>HORA</th>\n",
              "      <th>DIFERENCIA</th>\n",
              "    </tr>\n",
              "    <tr>\n",
              "      <th>DISPOSITIVO</th>\n",
              "      <th></th>\n",
              "      <th></th>\n",
              "      <th></th>\n",
              "    </tr>\n",
              "  </thead>\n",
              "  <tbody>\n",
              "    <tr>\n",
              "      <th>10000543</th>\n",
              "      <td>1032</td>\n",
              "      <td>1032</td>\n",
              "      <td>1032</td>\n",
              "    </tr>\n",
              "    <tr>\n",
              "      <th>10000544</th>\n",
              "      <td>2199</td>\n",
              "      <td>2199</td>\n",
              "      <td>2199</td>\n",
              "    </tr>\n",
              "    <tr>\n",
              "      <th>10000546</th>\n",
              "      <td>11977</td>\n",
              "      <td>11977</td>\n",
              "      <td>11977</td>\n",
              "    </tr>\n",
              "    <tr>\n",
              "      <th>10000547</th>\n",
              "      <td>14481</td>\n",
              "      <td>14481</td>\n",
              "      <td>14481</td>\n",
              "    </tr>\n",
              "    <tr>\n",
              "      <th>10000548</th>\n",
              "      <td>21</td>\n",
              "      <td>21</td>\n",
              "      <td>21</td>\n",
              "    </tr>\n",
              "    <tr>\n",
              "      <th>10001648</th>\n",
              "      <td>6999</td>\n",
              "      <td>6999</td>\n",
              "      <td>6999</td>\n",
              "    </tr>\n",
              "    <tr>\n",
              "      <th>650000292</th>\n",
              "      <td>1086</td>\n",
              "      <td>1086</td>\n",
              "      <td>1086</td>\n",
              "    </tr>\n",
              "  </tbody>\n",
              "</table>\n",
              "</div>"
            ],
            "text/plain": [
              "             FECHA_TRANSACCION   HORA  DIFERENCIA\n",
              "DISPOSITIVO                                      \n",
              "10000543                  1032   1032        1032\n",
              "10000544                  2199   2199        2199\n",
              "10000546                 11977  11977       11977\n",
              "10000547                 14481  14481       14481\n",
              "10000548                    21     21          21\n",
              "10001648                  6999   6999        6999\n",
              "650000292                 1086   1086        1086"
            ]
          },
          "execution_count": 29,
          "metadata": {},
          "output_type": "execute_result"
        }
      ],
      "source": [
        "ingresos_ultimos_20d_2024.groupby(by='DISPOSITIVO').count()"
      ]
    },
    {
      "cell_type": "code",
      "execution_count": 30,
      "metadata": {},
      "outputs": [],
      "source": [
        "ingresos_ultimos_20d_2024['RANGO'] = ingresos_ultimos_20d_2024['HORA'].apply(lambda x: datetime.time(x.hour, x.minute // 15 * 15))"
      ]
    },
    {
      "cell_type": "code",
      "execution_count": 31,
      "metadata": {},
      "outputs": [
        {
          "name": "stdout",
          "output_type": "stream",
          "text": [
            "PROMEDIO INGRESOS POR DISPOSITIVO\n"
          ]
        },
        {
          "data": {
            "text/html": [
              "<div>\n",
              "<style scoped>\n",
              "    .dataframe tbody tr th:only-of-type {\n",
              "        vertical-align: middle;\n",
              "    }\n",
              "\n",
              "    .dataframe tbody tr th {\n",
              "        vertical-align: top;\n",
              "    }\n",
              "\n",
              "    .dataframe thead th {\n",
              "        text-align: right;\n",
              "    }\n",
              "</style>\n",
              "<table border=\"1\" class=\"dataframe\">\n",
              "  <thead>\n",
              "    <tr style=\"text-align: right;\">\n",
              "      <th>DISPOSITIVO</th>\n",
              "      <th>10000543</th>\n",
              "      <th>10000544</th>\n",
              "      <th>10000546</th>\n",
              "      <th>10000547</th>\n",
              "      <th>10000548</th>\n",
              "      <th>10001648</th>\n",
              "      <th>650000292</th>\n",
              "    </tr>\n",
              "    <tr>\n",
              "      <th>RANGO</th>\n",
              "      <th></th>\n",
              "      <th></th>\n",
              "      <th></th>\n",
              "      <th></th>\n",
              "      <th></th>\n",
              "      <th></th>\n",
              "      <th></th>\n",
              "    </tr>\n",
              "  </thead>\n",
              "  <tbody>\n",
              "    <tr>\n",
              "      <th>16:00:00</th>\n",
              "      <td>16.714286</td>\n",
              "      <td>27.000000</td>\n",
              "      <td>58.400000</td>\n",
              "      <td>70.125000</td>\n",
              "      <td>NaN</td>\n",
              "      <td>32.142857</td>\n",
              "      <td>85.5</td>\n",
              "    </tr>\n",
              "    <tr>\n",
              "      <th>16:15:00</th>\n",
              "      <td>17.500000</td>\n",
              "      <td>28.500000</td>\n",
              "      <td>66.571429</td>\n",
              "      <td>71.812500</td>\n",
              "      <td>1.000000</td>\n",
              "      <td>41.071429</td>\n",
              "      <td>85.0</td>\n",
              "    </tr>\n",
              "    <tr>\n",
              "      <th>16:30:00</th>\n",
              "      <td>12.000000</td>\n",
              "      <td>30.666667</td>\n",
              "      <td>67.071429</td>\n",
              "      <td>78.266667</td>\n",
              "      <td>1.000000</td>\n",
              "      <td>37.800000</td>\n",
              "      <td>115.0</td>\n",
              "    </tr>\n",
              "    <tr>\n",
              "      <th>16:45:00</th>\n",
              "      <td>15.666667</td>\n",
              "      <td>29.166667</td>\n",
              "      <td>71.285714</td>\n",
              "      <td>77.133333</td>\n",
              "      <td>1.000000</td>\n",
              "      <td>41.142857</td>\n",
              "      <td>47.5</td>\n",
              "    </tr>\n",
              "    <tr>\n",
              "      <th>17:00:00</th>\n",
              "      <td>19.000000</td>\n",
              "      <td>35.714286</td>\n",
              "      <td>83.666667</td>\n",
              "      <td>91.625000</td>\n",
              "      <td>2.000000</td>\n",
              "      <td>52.533333</td>\n",
              "      <td>70.5</td>\n",
              "    </tr>\n",
              "    <tr>\n",
              "      <th>17:15:00</th>\n",
              "      <td>18.857143</td>\n",
              "      <td>41.571429</td>\n",
              "      <td>96.800000</td>\n",
              "      <td>102.375000</td>\n",
              "      <td>1.666667</td>\n",
              "      <td>64.125000</td>\n",
              "      <td>85.0</td>\n",
              "    </tr>\n",
              "    <tr>\n",
              "      <th>17:30:00</th>\n",
              "      <td>8.000000</td>\n",
              "      <td>32.571429</td>\n",
              "      <td>82.466667</td>\n",
              "      <td>90.312500</td>\n",
              "      <td>NaN</td>\n",
              "      <td>46.750000</td>\n",
              "      <td>NaN</td>\n",
              "    </tr>\n",
              "    <tr>\n",
              "      <th>17:45:00</th>\n",
              "      <td>10.857143</td>\n",
              "      <td>25.857143</td>\n",
              "      <td>74.733333</td>\n",
              "      <td>86.875000</td>\n",
              "      <td>1.000000</td>\n",
              "      <td>36.250000</td>\n",
              "      <td>NaN</td>\n",
              "    </tr>\n",
              "    <tr>\n",
              "      <th>18:00:00</th>\n",
              "      <td>11.666667</td>\n",
              "      <td>29.428571</td>\n",
              "      <td>76.533333</td>\n",
              "      <td>82.500000</td>\n",
              "      <td>NaN</td>\n",
              "      <td>38.500000</td>\n",
              "      <td>58.0</td>\n",
              "    </tr>\n",
              "    <tr>\n",
              "      <th>18:15:00</th>\n",
              "      <td>14.500000</td>\n",
              "      <td>27.571429</td>\n",
              "      <td>78.733333</td>\n",
              "      <td>90.062500</td>\n",
              "      <td>NaN</td>\n",
              "      <td>41.187500</td>\n",
              "      <td>157.0</td>\n",
              "    </tr>\n",
              "    <tr>\n",
              "      <th>18:30:00</th>\n",
              "      <td>12.857143</td>\n",
              "      <td>18.714286</td>\n",
              "      <td>55.866667</td>\n",
              "      <td>73.500000</td>\n",
              "      <td>1.000000</td>\n",
              "      <td>25.812500</td>\n",
              "      <td>94.0</td>\n",
              "    </tr>\n",
              "    <tr>\n",
              "      <th>18:45:00</th>\n",
              "      <td>NaN</td>\n",
              "      <td>NaN</td>\n",
              "      <td>NaN</td>\n",
              "      <td>1.000000</td>\n",
              "      <td>NaN</td>\n",
              "      <td>1.000000</td>\n",
              "      <td>NaN</td>\n",
              "    </tr>\n",
              "  </tbody>\n",
              "</table>\n",
              "</div>"
            ],
            "text/plain": [
              "DISPOSITIVO  10000543   10000544   10000546    10000547   10000548   \\\n",
              "RANGO                                                                 \n",
              "16:00:00     16.714286  27.000000  58.400000   70.125000        NaN   \n",
              "16:15:00     17.500000  28.500000  66.571429   71.812500   1.000000   \n",
              "16:30:00     12.000000  30.666667  67.071429   78.266667   1.000000   \n",
              "16:45:00     15.666667  29.166667  71.285714   77.133333   1.000000   \n",
              "17:00:00     19.000000  35.714286  83.666667   91.625000   2.000000   \n",
              "17:15:00     18.857143  41.571429  96.800000  102.375000   1.666667   \n",
              "17:30:00      8.000000  32.571429  82.466667   90.312500        NaN   \n",
              "17:45:00     10.857143  25.857143  74.733333   86.875000   1.000000   \n",
              "18:00:00     11.666667  29.428571  76.533333   82.500000        NaN   \n",
              "18:15:00     14.500000  27.571429  78.733333   90.062500        NaN   \n",
              "18:30:00     12.857143  18.714286  55.866667   73.500000   1.000000   \n",
              "18:45:00           NaN        NaN        NaN    1.000000        NaN   \n",
              "\n",
              "DISPOSITIVO  10001648   650000292  \n",
              "RANGO                              \n",
              "16:00:00     32.142857       85.5  \n",
              "16:15:00     41.071429       85.0  \n",
              "16:30:00     37.800000      115.0  \n",
              "16:45:00     41.142857       47.5  \n",
              "17:00:00     52.533333       70.5  \n",
              "17:15:00     64.125000       85.0  \n",
              "17:30:00     46.750000        NaN  \n",
              "17:45:00     36.250000        NaN  \n",
              "18:00:00     38.500000       58.0  \n",
              "18:15:00     41.187500      157.0  \n",
              "18:30:00     25.812500       94.0  \n",
              "18:45:00      1.000000        NaN  "
            ]
          },
          "execution_count": 31,
          "metadata": {},
          "output_type": "execute_result"
        }
      ],
      "source": [
        "print('PROMEDIO INGRESOS POR DISPOSITIVO')\n",
        "ingresos_ultimos_20d_2024.groupby(by=['FECHA_TRANSACCION', 'DISPOSITIVO', 'RANGO'])['HORA'].count().groupby(level=['DISPOSITIVO', 'RANGO']).mean().unstack().T"
      ]
    },
    {
      "cell_type": "code",
      "execution_count": 134,
      "metadata": {},
      "outputs": [],
      "source": [
        "salidas_ultimos_20d_2024['RANGO'] = salidas_ultimos_20d_2024['TIEMPO'].apply(lambda x: datetime.time(x.hour, x.minute // 15 * 15))"
      ]
    },
    {
      "cell_type": "code",
      "execution_count": 135,
      "metadata": {},
      "outputs": [
        {
          "data": {
            "text/html": [
              "<div>\n",
              "<style scoped>\n",
              "    .dataframe tbody tr th:only-of-type {\n",
              "        vertical-align: middle;\n",
              "    }\n",
              "\n",
              "    .dataframe tbody tr th {\n",
              "        vertical-align: top;\n",
              "    }\n",
              "\n",
              "    .dataframe thead th {\n",
              "        text-align: right;\n",
              "    }\n",
              "</style>\n",
              "<table border=\"1\" class=\"dataframe\">\n",
              "  <thead>\n",
              "    <tr style=\"text-align: right;\">\n",
              "      <th>DISPOSITIVO</th>\n",
              "      <th>10000543</th>\n",
              "      <th>10000544</th>\n",
              "      <th>10000545</th>\n",
              "      <th>10000546</th>\n",
              "      <th>10000547</th>\n",
              "      <th>10000548</th>\n",
              "      <th>10001648</th>\n",
              "    </tr>\n",
              "    <tr>\n",
              "      <th>RANGO</th>\n",
              "      <th></th>\n",
              "      <th></th>\n",
              "      <th></th>\n",
              "      <th></th>\n",
              "      <th></th>\n",
              "      <th></th>\n",
              "      <th></th>\n",
              "    </tr>\n",
              "  </thead>\n",
              "  <tbody>\n",
              "    <tr>\n",
              "      <th>16:15:00</th>\n",
              "      <td>1.0</td>\n",
              "      <td>1.0</td>\n",
              "      <td>1.0</td>\n",
              "      <td>1.0</td>\n",
              "      <td>1.0</td>\n",
              "      <td>1.0</td>\n",
              "      <td>1.0</td>\n",
              "    </tr>\n",
              "    <tr>\n",
              "      <th>16:30:00</th>\n",
              "      <td>1.0</td>\n",
              "      <td>1.0</td>\n",
              "      <td>1.0</td>\n",
              "      <td>1.0</td>\n",
              "      <td>1.0</td>\n",
              "      <td>1.0</td>\n",
              "      <td>1.0</td>\n",
              "    </tr>\n",
              "    <tr>\n",
              "      <th>16:45:00</th>\n",
              "      <td>1.0</td>\n",
              "      <td>1.0</td>\n",
              "      <td>1.0</td>\n",
              "      <td>1.0</td>\n",
              "      <td>1.0</td>\n",
              "      <td>1.0</td>\n",
              "      <td>1.0</td>\n",
              "    </tr>\n",
              "    <tr>\n",
              "      <th>17:00:00</th>\n",
              "      <td>1.0</td>\n",
              "      <td>1.0</td>\n",
              "      <td>1.0</td>\n",
              "      <td>1.0</td>\n",
              "      <td>1.0</td>\n",
              "      <td>1.0</td>\n",
              "      <td>1.0</td>\n",
              "    </tr>\n",
              "    <tr>\n",
              "      <th>17:15:00</th>\n",
              "      <td>1.0</td>\n",
              "      <td>1.0</td>\n",
              "      <td>1.0</td>\n",
              "      <td>1.0</td>\n",
              "      <td>1.0</td>\n",
              "      <td>1.0</td>\n",
              "      <td>1.0</td>\n",
              "    </tr>\n",
              "    <tr>\n",
              "      <th>17:30:00</th>\n",
              "      <td>1.0</td>\n",
              "      <td>1.0</td>\n",
              "      <td>1.0</td>\n",
              "      <td>1.0</td>\n",
              "      <td>1.0</td>\n",
              "      <td>1.0</td>\n",
              "      <td>1.0</td>\n",
              "    </tr>\n",
              "    <tr>\n",
              "      <th>17:45:00</th>\n",
              "      <td>1.0</td>\n",
              "      <td>1.0</td>\n",
              "      <td>1.0</td>\n",
              "      <td>1.0</td>\n",
              "      <td>1.0</td>\n",
              "      <td>1.0</td>\n",
              "      <td>1.0</td>\n",
              "    </tr>\n",
              "    <tr>\n",
              "      <th>18:00:00</th>\n",
              "      <td>1.0</td>\n",
              "      <td>1.0</td>\n",
              "      <td>1.0</td>\n",
              "      <td>1.0</td>\n",
              "      <td>1.0</td>\n",
              "      <td>1.0</td>\n",
              "      <td>1.0</td>\n",
              "    </tr>\n",
              "    <tr>\n",
              "      <th>18:15:00</th>\n",
              "      <td>1.0</td>\n",
              "      <td>1.0</td>\n",
              "      <td>1.0</td>\n",
              "      <td>1.0</td>\n",
              "      <td>1.0</td>\n",
              "      <td>1.0</td>\n",
              "      <td>1.0</td>\n",
              "    </tr>\n",
              "    <tr>\n",
              "      <th>18:30:00</th>\n",
              "      <td>1.0</td>\n",
              "      <td>1.0</td>\n",
              "      <td>1.0</td>\n",
              "      <td>1.0</td>\n",
              "      <td>1.0</td>\n",
              "      <td>1.0</td>\n",
              "      <td>1.0</td>\n",
              "    </tr>\n",
              "  </tbody>\n",
              "</table>\n",
              "</div>"
            ],
            "text/plain": [
              "DISPOSITIVO  10000543  10000544  10000545  10000546  10000547  10000548  \\\n",
              "RANGO                                                                     \n",
              "16:15:00          1.0       1.0       1.0       1.0       1.0       1.0   \n",
              "16:30:00          1.0       1.0       1.0       1.0       1.0       1.0   \n",
              "16:45:00          1.0       1.0       1.0       1.0       1.0       1.0   \n",
              "17:00:00          1.0       1.0       1.0       1.0       1.0       1.0   \n",
              "17:15:00          1.0       1.0       1.0       1.0       1.0       1.0   \n",
              "17:30:00          1.0       1.0       1.0       1.0       1.0       1.0   \n",
              "17:45:00          1.0       1.0       1.0       1.0       1.0       1.0   \n",
              "18:00:00          1.0       1.0       1.0       1.0       1.0       1.0   \n",
              "18:15:00          1.0       1.0       1.0       1.0       1.0       1.0   \n",
              "18:30:00          1.0       1.0       1.0       1.0       1.0       1.0   \n",
              "\n",
              "DISPOSITIVO  10001648  \n",
              "RANGO                  \n",
              "16:15:00          1.0  \n",
              "16:30:00          1.0  \n",
              "16:45:00          1.0  \n",
              "17:00:00          1.0  \n",
              "17:15:00          1.0  \n",
              "17:30:00          1.0  \n",
              "17:45:00          1.0  \n",
              "18:00:00          1.0  \n",
              "18:15:00          1.0  \n",
              "18:30:00          1.0  "
            ]
          },
          "execution_count": 135,
          "metadata": {},
          "output_type": "execute_result"
        }
      ],
      "source": [
        "salidas_ultimos_20d_2024.groupby(by=['FECHA_TRANSACCION', 'DISPOSITIVO', 'RANGO'])['TIEMPO'].count().groupby(level=['DISPOSITIVO', 'RANGO']).mean().unstack().T"
      ]
    },
    {
      "cell_type": "code",
      "execution_count": null,
      "metadata": {},
      "outputs": [],
      "source": []
    }
  ],
  "metadata": {
    "colab": {
      "provenance": []
    },
    "kernelspec": {
      "display_name": "Python 3",
      "name": "python3"
    },
    "language_info": {
      "codemirror_mode": {
        "name": "ipython",
        "version": 3
      },
      "file_extension": ".py",
      "mimetype": "text/x-python",
      "name": "python",
      "nbconvert_exporter": "python",
      "pygments_lexer": "ipython3",
      "version": "3.12.3"
    }
  },
  "nbformat": 4,
  "nbformat_minor": 0
}
